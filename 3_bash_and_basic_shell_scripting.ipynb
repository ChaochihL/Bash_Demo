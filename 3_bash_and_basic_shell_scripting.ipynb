{
 "cells": [
  {
   "cell_type": "markdown",
   "metadata": {},
   "source": [
    "# Let the computer do the work for you\n",
    "\n",
    "In bioinformatics (and many other fields), there's a lot of tedious data processing on a day to day basis. For example, it's not possible for a human to manually look through billions of nucleotide bases to find a single base change.\n",
    "\n",
    "Even if it were possible, would we really want to spend the time doing the same tedious task again and again? Why not let the computer do five hours worth of work for you? Then you can go on a well deserved coffee break.\n",
    "\n",
    "In addition to saving you time, you will also make your work reproducible.\n",
    "\n",
    "To pur your computer to work, you'll need to combine a series of commands into a shell script."
   ]
  },
  {
   "cell_type": "markdown",
   "metadata": {},
   "source": [
    "# Writing a script\n",
    "\n",
    "### Bash header\n",
    "\n",
    "The bash header line is called the *shebang* and it looks like:\n",
    "\n",
    "```bash\n",
    "#!/bin/bash\n",
    "```\n",
    "\n",
    "This tells your computer what environment to use.\n",
    "\n",
    "### Setting behavior rules\n",
    "\n",
    "You will also want to include the following lines at the top of your shell script:\n",
    "\n",
    "```bash\n",
    "set -e\n",
    "set -u\n",
    "set -o pipefail\n",
    "```\n",
    "\n",
    "`set -e` tells the script to exit when a command fails. By default, a shell script will not exit if a command fails.\n",
    "- Want the script to exit when there is an error\n",
    "\n",
    "`set -u` prevents a command from running if it references an unset variable. Here is an example of the default behavior (when not using `set -u`):"
   ]
  },
  {
   "cell_type": "code",
   "execution_count": 2,
   "metadata": {},
   "outputs": [
    {
     "name": "stdout",
     "output_type": "stream",
     "text": [
      "rm /something\n"
     ]
    }
   ],
   "source": [
    "echo \"rm $UNSET/something\""
   ]
  },
  {
   "cell_type": "markdown",
   "metadata": {},
   "source": [
    "`set -o` tells a script to exit if a command/program failed in the pipe. Bash does not by default do this."
   ]
  },
  {
   "cell_type": "markdown",
   "metadata": {},
   "source": [
    "### Variables\n",
    "\n",
    "Variables store values that would otherwise have to be hardcoded. For example:\n",
    "\n",
    "A hardcoded line of code would be:"
   ]
  },
  {
   "cell_type": "code",
   "execution_count": 5,
   "metadata": {},
   "outputs": [
    {
     "name": "stdout",
     "output_type": "stream",
     "text": [
      "1_bash_commands.ipynb\t\t\tapt.txt\n",
      "2_bash_tricks.ipynb\t\t\tenvironment.yml\n",
      "3_bash_and_basic_shell_scripting.ipynb\tpostBuild\n",
      "README.md\t\t\t\ttoy_data\n"
     ]
    }
   ],
   "source": [
    "ls /Users/chaochih/GitHub/Bash_Demo"
   ]
  },
  {
   "cell_type": "markdown",
   "metadata": {},
   "source": [
    "Using a variable to store the path to Bash_Demo:"
   ]
  },
  {
   "cell_type": "code",
   "execution_count": 7,
   "metadata": {},
   "outputs": [
    {
     "name": "stdout",
     "output_type": "stream",
     "text": [
      "1_bash_commands.ipynb\t\t\tapt.txt\n",
      "2_bash_tricks.ipynb\t\t\tenvironment.yml\n",
      "3_bash_and_basic_shell_scripting.ipynb\tpostBuild\n",
      "README.md\t\t\t\ttoy_data\n"
     ]
    }
   ],
   "source": [
    "# Define variable contents\n",
    "work_dir=\"/Users/chaochih/GitHub/Bash_Demo\"\n",
    "\n",
    "ls \"${work_dir}\""
   ]
  },
  {
   "cell_type": "markdown",
   "metadata": {},
   "source": [
    "To view content stored in a variable:"
   ]
  },
  {
   "cell_type": "code",
   "execution_count": null,
   "metadata": {},
   "outputs": [],
   "source": [
    "echo \"${work_dir}\""
   ]
  },
  {
   "cell_type": "markdown",
   "metadata": {},
   "source": [
    "### Command line arguments\n",
    "\n",
    "These are user input arguments provided in a similar fashion to built in bash commands. For example:\n",
    "\n",
    "```bash\n",
    "bash your_script.sh arg1 arg2 arg3\n",
    "```\n",
    "\n",
    "### Conditionals: if else statements\n",
    "\n",
    "Bash conditionals allows you to have more control over handling your data.\n",
    "\n",
    "General syntax:\n",
    "\n",
    "```bash\n",
    "if grep \"pattern\" file.txt\n",
    "then\n",
    "    # commands to run if pattern exists\n",
    "else\n",
    "    # commands to run if pattern does not exist\n",
    "fi\n",
    "```\n",
    "\n",
    "Let's say you want to use `grep` to find if you have chr2 in your BED file and if there isn't, you want to print a message."
   ]
  },
  {
   "cell_type": "code",
   "execution_count": 12,
   "metadata": {},
   "outputs": [
    {
     "name": "stdout",
     "output_type": "stream",
     "text": [
      "Found chromosome.\n"
     ]
    }
   ],
   "source": [
    "if grep \"chr2\" ~/GitHub/Bash_Demo/toy_data/test.bed > /dev/null\n",
    "then\n",
    "    echo \"Found chromosome.\"\n",
    "else\n",
    "    echo \"Chromosome not found.\"\n",
    "fi"
   ]
  },
  {
   "cell_type": "markdown",
   "metadata": {},
   "source": [
    "# Exercise 2\n",
    "\n",
    "Write a short shell script that takes a list of `.bed` files in the `toy_data` directory and outputs a `.txt` file with the number of lines in each `.bed` file.\n",
    "\n",
    "You can either write the body of your shell script below or open up your favorite text editor."
   ]
  },
  {
   "cell_type": "code",
   "execution_count": null,
   "metadata": {},
   "outputs": [],
   "source": []
  }
 ],
 "metadata": {
  "kernelspec": {
   "display_name": "Bash",
   "language": "bash",
   "name": "bash"
  },
  "language_info": {
   "codemirror_mode": "shell",
   "file_extension": ".sh",
   "mimetype": "text/x-sh",
   "name": "bash"
  }
 },
 "nbformat": 4,
 "nbformat_minor": 2
}
