{
 "cells": [
  {
   "cell_type": "markdown",
   "metadata": {},
   "source": [
    "# Unix/Linux tricks\n",
    "\n",
    "Here is a collection of some neat tricks."
   ]
  },
  {
   "cell_type": "markdown",
   "metadata": {},
   "source": [
    "# mkdir trick instead of an if else statement\n",
    "\n",
    "Instead of writing an if else statement to check if a directory exists before making it, use the `-p` option for the `mkdir` command."
   ]
  },
  {
   "cell_type": "code",
   "execution_count": null,
   "metadata": {},
   "outputs": [],
   "source": [
    "# Let's create a test directory first in our home directory\n",
    "mkdir ~/test"
   ]
  },
  {
   "cell_type": "code",
   "execution_count": 1,
   "metadata": {},
   "outputs": [],
   "source": [
    "# Let's cd into our newly created directory\n",
    "cd ~/test"
   ]
  },
  {
   "cell_type": "code",
   "execution_count": 3,
   "metadata": {},
   "outputs": [
    {
     "name": "stdout",
     "output_type": "stream",
     "text": [
      "test_file.txt\n"
     ]
    }
   ],
   "source": [
    "# Now, let's create an empty file for testing purposes\n",
    "touch test_file.txt\n",
    "# And use ls to see if the file is there"
   ]
  },
  {
   "cell_type": "code",
   "execution_count": 4,
   "metadata": {},
   "outputs": [
    {
     "name": "stdout",
     "output_type": "stream",
     "text": [
      "mkdir: /Users/chaochih/test: File exists\n"
     ]
    },
    {
     "ename": "",
     "evalue": "1",
     "output_type": "error",
     "traceback": []
    }
   ],
   "source": [
    "# Since ~/test already exists, if we try to create ~/test directory\n",
    "# again, we will get an error message\n",
    "mkdir ~/test"
   ]
  },
  {
   "cell_type": "code",
   "execution_count": 8,
   "metadata": {},
   "outputs": [],
   "source": [
    "# If we add the -p option, it will check if the directory exists\n",
    "# and if it does, it will exit without error\n",
    "mkdir -p ~/test"
   ]
  },
  {
   "cell_type": "code",
   "execution_count": 10,
   "metadata": {
    "scrolled": false
   },
   "outputs": [
    {
     "name": "stdout",
     "output_type": "stream",
     "text": [
      "AnacondaProjects\tDropbox\t\t\tOneDrive\n",
      "Applications\t\tGitHub\t\t\tPictures\n",
      "Desktop\t\t\tLibrary\t\t\tPublic\n",
      "Documents\t\tMovies\t\t\tanaconda3\n",
      "Downloads\t\tMusic\t\t\tworkshop\n"
     ]
    }
   ],
   "source": [
    "# Let's see our directory\n",
    "ls ~"
   ]
  },
  {
   "cell_type": "markdown",
   "metadata": {},
   "source": [
    "# Finding files/generating sample lists for scripts\n",
    "\n",
    "General syntax:\n",
    "\n",
    "```bash\n",
    "find $(pwd) -name \"*part_of_filename*\"\n",
    "```"
   ]
  },
  {
   "cell_type": "code",
   "execution_count": 5,
   "metadata": {},
   "outputs": [
    {
     "name": "stdout",
     "output_type": "stream",
     "text": [
      "/Users/chaochih/GitHub/Bash_Demo\n",
      "/Users/chaochih/GitHub/Bash_Demo/apt.txt\n",
      "/Users/chaochih/GitHub/Bash_Demo/toy_data/chroms.txt\n",
      "/Users/chaochih/GitHub/Bash_Demo/toy_data/genotypes.txt\n",
      "/Users/chaochih/GitHub/Bash_Demo/toy_data/mm_gene_names.txt\n",
      "/Users/chaochih/GitHub/Bash_Demo/toy_data/test_chr1_only_sorted.txt\n",
      "/Users/chaochih/GitHub/Bash_Demo/toy_data/test_chr1_only_unsorted.txt\n"
     ]
    }
   ],
   "source": [
    "# First, let's see where we are in our directory structure\n",
    "pwd\n",
    "\n",
    "# Then we will use command substitution to find the full\n",
    "# filepath for any .txt file in our current working directory\n",
    "# and below\n",
    "find $(pwd) -name \"*.txt\" | sort"
   ]
  },
  {
   "cell_type": "markdown",
   "metadata": {},
   "source": [
    "# Text processing with awk\n",
    "\n",
    "Print a specific column using awk:"
   ]
  },
  {
   "cell_type": "code",
   "execution_count": 9,
   "metadata": {},
   "outputs": [
    {
     "name": "stdout",
     "output_type": "stream",
     "text": [
      "3054233\n",
      "3054233\n",
      "3054233\n",
      "3102016\n",
      "3102016\n",
      "3102016\n",
      "3205901\n",
      "3205901\n",
      "3213609\n",
      "3205901\n"
     ]
    }
   ],
   "source": [
    "awk '{ print $2 }' ~/GitHub/Bash_Demo/toy_data/Mus_musculus.GRCm38.75_chr1.bed | head -n 10"
   ]
  },
  {
   "cell_type": "markdown",
   "metadata": {},
   "source": [
    "# Text processing with sed\n",
    "\n",
    "You can add \"chr\" to the beginning of every row:"
   ]
  },
  {
   "cell_type": "code",
   "execution_count": 11,
   "metadata": {},
   "outputs": [
    {
     "name": "stdout",
     "output_type": "stream",
     "text": [
      "chr1\t3054233\t3054733\n",
      "chr1\t3054233\t3054733\n",
      "chr1\t3054233\t3054733\n",
      "chr1\t3102016\t3102125\n",
      "chr1\t3102016\t3102125\n",
      "chr1\t3102016\t3102125\n",
      "chr1\t3205901\t3671498\n",
      "chr1\t3205901\t3216344\n",
      "chr1\t3213609\t3216344\n",
      "chr1\t3205901\t3207317\n"
     ]
    }
   ],
   "source": [
    "sed -e s/^/chr/ ~/GitHub/Bash_Demo/toy_data/Mus_musculus.GRCm38.75_chr1.bed | head -n 10"
   ]
  },
  {
   "cell_type": "markdown",
   "metadata": {},
   "source": [
    "# Cool head/tail tricks\n",
    "\n",
    "To print a specified pattern *n* times use:"
   ]
  },
  {
   "cell_type": "code",
   "execution_count": 3,
   "metadata": {},
   "outputs": [
    {
     "name": "stdout",
     "output_type": "stream",
     "text": [
      "beer\n",
      "beer\n",
      "beer\n",
      "beer\n",
      "beer\n",
      "beer\n",
      "beer\n",
      "beer\n",
      "beer\n",
      "beer\n"
     ]
    }
   ],
   "source": [
    "yes \"beer\" | head -n 10"
   ]
  },
  {
   "cell_type": "markdown",
   "metadata": {},
   "source": [
    "To view a specific row in a file:"
   ]
  },
  {
   "cell_type": "code",
   "execution_count": 4,
   "metadata": {},
   "outputs": [
    {
     "name": "stdout",
     "output_type": "stream",
     "text": [
      "chr3\t11\t28\n"
     ]
    }
   ],
   "source": [
    "head -n 4 ~/GitHub/Bash_Demo/toy_data/test.bed | tail -1"
   ]
  },
  {
   "cell_type": "code",
   "execution_count": null,
   "metadata": {},
   "outputs": [],
   "source": []
  }
 ],
 "metadata": {
  "kernelspec": {
   "display_name": "Bash",
   "language": "bash",
   "name": "bash"
  },
  "language_info": {
   "codemirror_mode": "shell",
   "file_extension": ".sh",
   "mimetype": "text/x-sh",
   "name": "bash"
  }
 },
 "nbformat": 4,
 "nbformat_minor": 2
}
