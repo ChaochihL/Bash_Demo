{
 "cells": [
  {
   "cell_type": "markdown",
   "metadata": {},
   "source": [
    "# Streams and Redirection\n",
    "\n",
    "### Use streams to avoid loading large amounts of data into memory\n",
    "\n",
    "Example of printing contents to standard output stream (STDOUT)\n",
    "\n",
    "![Image from linux-training.be](http://linux-training.be/funhtml/images/bash_ioredirection_keyboard_display.png)\n",
    "\n",
    "### STDIN, STDERR, STDOUT\n",
    "\n",
    "![Image from ryanstutorials.net/linuxtutorial](https://ryanstutorials.net/linuxtutorial/img/streams.png)\n",
    "\n",
    "### Redirection\n",
    "\n",
    "To redirect STDOUT to a file, we use the following operators:\n",
    "- `>` redirects standard output and overwrites existing content to a file\n",
    "- `>>` adds standard output content to end of file"
   ]
  },
  {
   "cell_type": "markdown",
   "metadata": {},
   "source": [
    "# Creating project directory\n",
    "\n",
    "Before we get started with today's hand-on workshop, let's create a project directory."
   ]
  },
  {
   "cell_type": "code",
   "execution_count": null,
   "metadata": {},
   "outputs": [],
   "source": [
    "# Go into our home directory\n",
    "cd ~\n",
    "# View contents in home directory\n",
    "# The contents in our directory will go to standard output\n",
    "ls"
   ]
  },
  {
   "cell_type": "code",
   "execution_count": null,
   "metadata": {},
   "outputs": [],
   "source": [
    "# If we make a mistake when typing our commands, we will see a standard error output\n",
    "l"
   ]
  },
  {
   "cell_type": "code",
   "execution_count": null,
   "metadata": {},
   "outputs": [],
   "source": [
    "# Make a directory called \"workshop\"\n",
    "mkdir workshop\n",
    "# See if directory was created\n",
    "# Use long listing option (-l) and list based on creation time (-t)\n",
    "ls -lt"
   ]
  },
  {
   "cell_type": "code",
   "execution_count": null,
   "metadata": {},
   "outputs": [],
   "source": [
    "# To get help on commands,\n",
    "# pull up the manual with detailed documentation for each command,\n",
    "# The general syntax will be: \"man\" command followed by your command\n",
    "man ls"
   ]
  },
  {
   "cell_type": "code",
   "execution_count": null,
   "metadata": {},
   "outputs": [],
   "source": [
    "# Now, let's go into our new directory\n",
    "cd workshop"
   ]
  },
  {
   "cell_type": "code",
   "execution_count": null,
   "metadata": {},
   "outputs": [],
   "source": [
    "# And check where we are\n",
    "pwd"
   ]
  },
  {
   "cell_type": "markdown",
   "metadata": {},
   "source": [
    "# Example 1: Combine two files and redirect to a single file\n",
    "\n",
    "In this example, we will combine two FASTA files (`tb1-protein.fasta` and `tga1-protein.fasta`). FASTA files contain nucleotide sequences or peptide/protein sequences with nucleotides/amino acids represented by single letter codes."
   ]
  },
  {
   "cell_type": "code",
   "execution_count": null,
   "metadata": {},
   "outputs": [],
   "source": [
    "# First, we will download our file using the command \"wget\"\n",
    "#    Note: wget by default downloads the file into your current working directory\n",
    "#    There is an option (-P) to specify the output directory\n",
    "#    i.e. wget -P /path/to/output_directory https://link.to.yourfile.com/filename.txt)\n",
    "\n",
    "# File 1 is tb1-protein.fasta\n",
    "wget https://raw.githubusercontent.com/vsbuffalo/bds-files/master/chapter-03-remedial-unix/tb1-protein.fasta\n",
    "# File 2 is tga1-protein.fasta\n",
    "wget https://raw.githubusercontent.com/vsbuffalo/bds-files/master/chapter-03-remedial-unix/tga1-protein.fasta"
   ]
  },
  {
   "cell_type": "code",
   "execution_count": null,
   "metadata": {},
   "outputs": [],
   "source": [
    "ls"
   ]
  },
  {
   "cell_type": "code",
   "execution_count": null,
   "metadata": {},
   "outputs": [],
   "source": [
    "# View contents of tb1-protein.fasta\n",
    "head tb1-protein.fasta"
   ]
  },
  {
   "cell_type": "code",
   "execution_count": null,
   "metadata": {},
   "outputs": [],
   "source": [
    "# View contents of tga1-protein.fasta\n",
    "head tga1-protein.fasta"
   ]
  },
  {
   "cell_type": "code",
   "execution_count": null,
   "metadata": {},
   "outputs": [],
   "source": [
    "# Concatenate two files with \"cat\" command and print to standard output\n",
    "cat tb1-protein.fasta tga1-protein.fasta"
   ]
  },
  {
   "cell_type": "code",
   "execution_count": null,
   "metadata": {},
   "outputs": [],
   "source": [
    "# Now we will redirect (save) our output into a file\n",
    "cat tb1-protein.fasta tga1-protein.fasta > combined_proteins.fasta"
   ]
  },
  {
   "cell_type": "code",
   "execution_count": null,
   "metadata": {},
   "outputs": [],
   "source": [
    "# Let's see if our file was created\n",
    "ls -lt"
   ]
  },
  {
   "cell_type": "markdown",
   "metadata": {},
   "source": [
    "# Example 2: Redirect output of ls -l to standard error\n",
    "\n",
    "For this example, we will use the tb1-protein.fasta and a non-existent fasta file, leaf.fasta."
   ]
  },
  {
   "cell_type": "code",
   "execution_count": null,
   "metadata": {},
   "outputs": [],
   "source": [
    "# We are going to try to list a file that doesn't exist, which will return an error message\n",
    "ls -l tb1-protein.fasta leaf.fasta"
   ]
  },
  {
   "cell_type": "code",
   "execution_count": null,
   "metadata": {},
   "outputs": [],
   "source": [
    "# Now we will redirect (save) the error message to a file\n",
    "# We will redirect the listing of tb1-protein.fasta to dir_listing.txt\n",
    "# and the standard error message to another file called dir_listing.stderr\n",
    "ls -l tb1-protein.fasta leaf.fasta > dir_listing.txt 2> dir_listing.stderr"
   ]
  },
  {
   "cell_type": "code",
   "execution_count": null,
   "metadata": {},
   "outputs": [],
   "source": [
    "# Let's see if we've created our files\n",
    "ls -lt"
   ]
  },
  {
   "cell_type": "code",
   "execution_count": null,
   "metadata": {},
   "outputs": [],
   "source": [
    "# Let's view our dir_listing.txt file\n",
    "head dir_listing.txt"
   ]
  },
  {
   "cell_type": "code",
   "execution_count": null,
   "metadata": {},
   "outputs": [],
   "source": [
    "# Let's view our dir_listing.stderr file\n",
    "head dir_listing.stderr"
   ]
  },
  {
   "cell_type": "markdown",
   "metadata": {},
   "source": [
    "# Piping\n",
    "\n",
    "Piping is great when you have multiple steps you want to perform on your data but only want to save the final output and not the intermediate files. This is helpful when you are working with large datasets and do not have enough memory to store the intermediate files.\n",
    "\n",
    "![Image from web.cse.ohio-state.edu](http://web.cse.ohio-state.edu/~mamrak.1/CIS762/unix_pipes.gif)"
   ]
  },
  {
   "cell_type": "markdown",
   "metadata": {},
   "source": [
    "# Example 3: Extracting chromosome 1, sorting by start position, and redirecting to file using pipes\n",
    "\n",
    "For this example we will be using toy data I've already downloaded. We will be working with a file called `test.bed`."
   ]
  },
  {
   "cell_type": "code",
   "execution_count": 1,
   "metadata": {},
   "outputs": [],
   "source": [
    "# First, we will go into our toy_data directory\n",
    "# Note: you may have to change the path here\n",
    "cd /Users/chaochih/GitHub/Bash_Demo/toy_data"
   ]
  },
  {
   "cell_type": "code",
   "execution_count": 2,
   "metadata": {},
   "outputs": [
    {
     "name": "stdout",
     "output_type": "stream",
     "text": [
      "/Users/chaochih/GitHub/Bash_Demo/toy_data\n"
     ]
    }
   ],
   "source": [
    "# Make sure we are in the correct directory\n",
    "pwd"
   ]
  },
  {
   "cell_type": "code",
   "execution_count": 3,
   "metadata": {},
   "outputs": [
    {
     "name": "stdout",
     "output_type": "stream",
     "text": [
      "Mus_musculus.GRCm38.75.dna.chromosome.8.fa.gz\n",
      "Mus_musculus.GRCm38.75_chr1.bed\n",
      "Mus_musculus.GRCm38.75_chr1.gtf\n",
      "Mus_musculus.GRCm38.75_chr1_bed.csv\n",
      "NA12891_CEU_sample.vcf.gz\n",
      "chroms.txt\n",
      "contam.fastq\n",
      "contaminated.fastq\n",
      "egfr_flank.fasta\n",
      "example.bed\n",
      "example2.bed\n",
      "gene-1.bed\n",
      "gene-2.bed\n",
      "genotypes.txt\n",
      "mm10_snp137_chr1_trunc.bed.gz\n",
      "mm_GRCm38.75_protein_coding_genes.gtf\n",
      "mm_gene_names.txt\n",
      "tb1-protein.fasta\n",
      "test.bed\n",
      "tga1-protein.fasta\n",
      "untreated1_chr4.fq\n"
     ]
    }
   ],
   "source": [
    "# See contents in directory\n",
    "ls"
   ]
  },
  {
   "cell_type": "code",
   "execution_count": 4,
   "metadata": {},
   "outputs": [
    {
     "name": "stdout",
     "output_type": "stream",
     "text": [
      "chrom\tstart\tend\n",
      "chr1\t26\t39\n",
      "chr1\t32\t47\n",
      "chr3\t11\t28\n",
      "chr1\t40\t49\n",
      "chr3\t16\t27\n",
      "chr1\t9\t28\n",
      "chr2\t35\t54\n",
      "chr1\t10\t19\n"
     ]
    }
   ],
   "source": [
    "# First, let's take a look at our file\n",
    "head test.bed"
   ]
  },
  {
   "cell_type": "code",
   "execution_count": 5,
   "metadata": {},
   "outputs": [
    {
     "name": "stdout",
     "output_type": "stream",
     "text": [
      "chr1\t26\t39\n",
      "chr1\t32\t47\n",
      "chr1\t40\t49\n",
      "chr1\t9\t28\n",
      "chr1\t10\t19\n"
     ]
    }
   ],
   "source": [
    "# We want to extract only rows that are from chromosome 1 from the file\n",
    "grep \"chr1\" test.bed"
   ]
  },
  {
   "cell_type": "code",
   "execution_count": 9,
   "metadata": {},
   "outputs": [
    {
     "name": "stdout",
     "output_type": "stream",
     "text": [
      "chr1\t9\t28\n",
      "chr1\t10\t19\n",
      "chr1\t26\t39\n",
      "chr1\t32\t47\n",
      "chr1\t40\t49\n"
     ]
    }
   ],
   "source": [
    "# After we extract chromosome 1, we will sort the data by column 2, which\n",
    "# is the start positions of the interval\n",
    "# The -k option in sort allows us to sort by only column 2\n",
    "# The -n option sorts numerically\n",
    "grep \"chr1\" test.bed | sort -k2,2 -n"
   ]
  },
  {
   "cell_type": "code",
   "execution_count": 10,
   "metadata": {},
   "outputs": [],
   "source": [
    "# Now, let's save our sorted subset to a file\n",
    "grep \"chr1\" test.bed | sort -k2,2 -n > test_chr1_only.bed"
   ]
  },
  {
   "cell_type": "code",
   "execution_count": 15,
   "metadata": {},
   "outputs": [
    {
     "name": "stdout",
     "output_type": "stream",
     "text": [
      "total 271384\n",
      "-rw-r--r--  1 chaochih  staff        54 Jan  7 22:12 test_chr1_only.bed\n"
     ]
    }
   ],
   "source": [
    "# Let's see if we've created our file\n",
    "# We will list our files from most recent to oldest then\n",
    "# we'll use the -n option to output only the first 2 lines\n",
    "ls -lt | head -n 2"
   ]
  },
  {
   "cell_type": "markdown",
   "metadata": {},
   "source": [
    "# Example 3: Extract everything that is not chromosome 1\n",
    "\n",
    "Now we will do the inverse of what we just did above. We will pull out all rows that are NOT chromosome 1."
   ]
  },
  {
   "cell_type": "code",
   "execution_count": 16,
   "metadata": {},
   "outputs": [
    {
     "name": "stdout",
     "output_type": "stream",
     "text": [
      "chrom\tstart\tend\n",
      "chr3\t11\t28\n",
      "chr3\t16\t27\n",
      "chr2\t35\t54\n"
     ]
    }
   ],
   "source": [
    "# Use the -v option in grep to invert the match\n",
    "grep -v \"chr1\" test.bed"
   ]
  },
  {
   "cell_type": "markdown",
   "metadata": {},
   "source": [
    "# More fun with streams\n",
    "\n",
    "![Image from Wikipedia page on tees](https://encrypted-tbn0.gstatic.com/images?q=tbn:ANd9GcS6GxQjYRvRw2voB6XCi-oXQ2Jsv8fUbB7joqPlaqrY0IHXSmuHBQ)\n",
    "\n",
    "`tee` is a neat command if you want to only write a single line of code but output many intermediate files.\n",
    "\n",
    "For this example, we'll continue to use `test.bed` and run a similar command as in Example 2."
   ]
  },
  {
   "cell_type": "code",
   "execution_count": 17,
   "metadata": {},
   "outputs": [
    {
     "name": "stdout",
     "output_type": "stream",
     "text": [
      "chr1\t9\t28\n",
      "chr1\t10\t19\n",
      "chr1\t26\t39\n",
      "chr1\t32\t47\n",
      "chr1\t40\t49\n"
     ]
    }
   ],
   "source": [
    "grep \"chr1\" test.bed | tee test_chr1_only_unsorted.txt | sort -k2,2 -n | tee test_chr1_only_sorted.txt | head"
   ]
  },
  {
   "cell_type": "code",
   "execution_count": 19,
   "metadata": {},
   "outputs": [
    {
     "name": "stdout",
     "output_type": "stream",
     "text": [
      "total 271400\n",
      "-rw-r--r--  1 chaochih  staff        54 Jan  7 22:23 test_chr1_only_sorted.txt\n",
      "-rw-r--r--  1 chaochih  staff        54 Jan  7 22:23 test_chr1_only_unsorted.txt\n"
     ]
    }
   ],
   "source": [
    "# Let's see which files we've created\n",
    "ls -lt | head -n 3"
   ]
  },
  {
   "cell_type": "code",
   "execution_count": 20,
   "metadata": {},
   "outputs": [
    {
     "name": "stdout",
     "output_type": "stream",
     "text": [
      "chr1\t26\t39\n",
      "chr1\t32\t47\n",
      "chr1\t40\t49\n",
      "chr1\t9\t28\n",
      "chr1\t10\t19\n"
     ]
    }
   ],
   "source": [
    "# Now let's take a look at what's inside these two files\n",
    "head test_chr1_only_unsorted.txt"
   ]
  },
  {
   "cell_type": "code",
   "execution_count": 21,
   "metadata": {},
   "outputs": [
    {
     "name": "stdout",
     "output_type": "stream",
     "text": [
      "chr1\t9\t28\n",
      "chr1\t10\t19\n",
      "chr1\t26\t39\n",
      "chr1\t32\t47\n",
      "chr1\t40\t49\n"
     ]
    }
   ],
   "source": [
    "head test_chr1_only_sorted.txt"
   ]
  },
  {
   "cell_type": "code",
   "execution_count": null,
   "metadata": {},
   "outputs": [],
   "source": []
  }
 ],
 "metadata": {
  "kernelspec": {
   "display_name": "Bash",
   "language": "bash",
   "name": "bash"
  },
  "language_info": {
   "codemirror_mode": "shell",
   "file_extension": ".sh",
   "mimetype": "text/x-sh",
   "name": "bash"
  }
 },
 "nbformat": 4,
 "nbformat_minor": 2
}
