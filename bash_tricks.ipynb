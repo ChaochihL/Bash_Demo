{
 "cells": [
  {
   "cell_type": "markdown",
   "metadata": {},
   "source": [
    "# Unix/Linux tricks\n",
    "\n",
    "Here is a collection of some neat tricks."
   ]
  },
  {
   "cell_type": "markdown",
   "metadata": {},
   "source": [
    "# mkdir trick\n",
    "\n",
    "Instead of writing an if else statement to check if a directory exists before making it, use the `-p` option for the `mkdir` command."
   ]
  },
  {
   "cell_type": "code",
   "execution_count": null,
   "metadata": {},
   "outputs": [],
   "source": [
    "# Let's create a test directory first in our home directory\n",
    "mkdir ~/test"
   ]
  },
  {
   "cell_type": "code",
   "execution_count": 1,
   "metadata": {},
   "outputs": [],
   "source": [
    "# Let's cd into our newly created directory\n",
    "cd ~/test"
   ]
  },
  {
   "cell_type": "code",
   "execution_count": 3,
   "metadata": {},
   "outputs": [
    {
     "name": "stdout",
     "output_type": "stream",
     "text": [
      "test_file.txt\n"
     ]
    }
   ],
   "source": [
    "# Now, let's create an empty file for testing purposes\n",
    "touch test_file.txt\n",
    "# And use ls to see if the file is there"
   ]
  },
  {
   "cell_type": "code",
   "execution_count": 4,
   "metadata": {},
   "outputs": [
    {
     "name": "stdout",
     "output_type": "stream",
     "text": [
      "mkdir: /Users/chaochih/test: File exists\n"
     ]
    },
    {
     "ename": "",
     "evalue": "1",
     "output_type": "error",
     "traceback": []
    }
   ],
   "source": [
    "# Since ~/test already exists, if we try to create ~/test directory\n",
    "# again, we will get an error message\n",
    "mkdir ~/test"
   ]
  },
  {
   "cell_type": "code",
   "execution_count": 8,
   "metadata": {},
   "outputs": [],
   "source": [
    "# If we add the -p option, it will check if the directory exists\n",
    "# and if it does, it will exit without error\n",
    "mkdir -p ~/test"
   ]
  },
  {
   "cell_type": "code",
   "execution_count": 10,
   "metadata": {},
   "outputs": [
    {
     "name": "stdout",
     "output_type": "stream",
     "text": [
      "AnacondaProjects\tDropbox\t\t\tOneDrive\n",
      "Applications\t\tGitHub\t\t\tPictures\n",
      "Desktop\t\t\tLibrary\t\t\tPublic\n",
      "Documents\t\tMovies\t\t\tanaconda3\n",
      "Downloads\t\tMusic\t\t\tworkshop\n"
     ]
    }
   ],
   "source": [
    "# Let's see our directory\n",
    "ls ~"
   ]
  },
  {
   "cell_type": "code",
   "execution_count": null,
   "metadata": {},
   "outputs": [],
   "source": []
  }
 ],
 "metadata": {
  "kernelspec": {
   "display_name": "Bash",
   "language": "bash",
   "name": "bash"
  },
  "language_info": {
   "codemirror_mode": "shell",
   "file_extension": ".sh",
   "mimetype": "text/x-sh",
   "name": "bash"
  }
 },
 "nbformat": 4,
 "nbformat_minor": 2
}
