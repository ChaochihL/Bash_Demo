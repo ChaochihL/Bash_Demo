{
 "cells": [
  {
   "cell_type": "markdown",
   "metadata": {},
   "source": [
    "# Streams and Redirection\n",
    "\n",
    "### Use streams to avoid loading large amounts of data into memory\n",
    "\n",
    "Example of printing contents to standard output stream (STDOUT)\n",
    "\n",
    "![Image from linux-training.be](http://linux-training.be/funhtml/images/bash_ioredirection_keyboard_display.png)\n",
    "\n",
    "### STDIN, STDERR, STDOUT\n",
    "\n",
    "![Image from ryanstutorials.net/linuxtutorial](https://ryanstutorials.net/linuxtutorial/img/streams.png)\n",
    "\n",
    "### Redirection\n",
    "\n",
    "To redirect STDOUT to a file, we use the following operators:\n",
    "- `>` redirects standard output and overwrites existing content to a file\n",
    "- `>>` adds standard output content to end of file"
   ]
  },
  {
   "cell_type": "markdown",
   "metadata": {},
   "source": [
    "# Creating project directory\n",
    "\n",
    "Before we get started with today's hand-on workshop, let's create a project directory."
   ]
  },
  {
   "cell_type": "code",
   "execution_count": 2,
   "metadata": {},
   "outputs": [
    {
     "name": "stdout",
     "output_type": "stream",
     "text": [
      "AnacondaProjects\tGitHub\t\t\tPublic\n",
      "Applications\t\tLibrary\t\t\tScreenshots\n",
      "Desktop\t\t\tMovies\t\t\tanaconda3\n",
      "Documents\t\tMusic\t\t\tworkshop\n",
      "Downloads\t\tOneDrive\n",
      "Dropbox\t\t\tPictures\n"
     ]
    }
   ],
   "source": [
    "# Go into our home directory\n",
    "cd ~\n",
    "# View contents in home directory\n",
    "# The contents in our directory will go to standard output\n",
    "ls"
   ]
  },
  {
   "cell_type": "code",
   "execution_count": 4,
   "metadata": {},
   "outputs": [
    {
     "name": "stdout",
     "output_type": "stream",
     "text": [
      "bash: ljfeaifje: command not found\n"
     ]
    },
    {
     "ename": "",
     "evalue": "127",
     "output_type": "error",
     "traceback": []
    }
   ],
   "source": [
    "# If we make a mistake when typing our commands, we will see a standard error output\n",
    "ljfeaifje"
   ]
  },
  {
   "cell_type": "code",
   "execution_count": 5,
   "metadata": {},
   "outputs": [
    {
     "name": "stdout",
     "output_type": "stream",
     "text": [
      "mkdir: workshop: File exists\n",
      "total 0\n",
      "drwx------+ 28 chaochih  staff   896 Jan 11 12:36 Downloads\n",
      "drwx------+  6 chaochih  staff   192 Jan 10 18:09 Desktop\n",
      "drwxr-xr-x  10 chaochih  staff   320 Jan 10 18:09 Screenshots\n",
      "lrwxr-xr-x   1 chaochih  staff    30 Jan 10 11:59 GitHub -> /Users/chaochih/Dropbox/GitHub\n",
      "drwx------@ 43 chaochih  staff  1376 Jan 10 11:05 Dropbox\n",
      "drwx------@ 70 chaochih  staff  2240 Jan 10 11:02 Library\n",
      "drwx------@ 25 chaochih  staff   800 Jan  9 20:48 OneDrive\n",
      "drwx------+  8 chaochih  staff   256 Jan  7 23:44 Pictures\n",
      "drwxr-xr-x   7 chaochih  staff   224 Jan  7 21:42 workshop\n",
      "drwxr-xr-x  24 chaochih  staff   768 Jan  7 13:24 anaconda3\n",
      "drwxr-xr-x   2 chaochih  staff    64 Jan  6 15:18 AnacondaProjects\n",
      "drwx------+  8 chaochih  staff   256 Jan  5 19:36 Music\n",
      "drwx------   5 chaochih  staff   160 Jan  5 10:55 Applications\n",
      "drwx------+  7 chaochih  staff   224 Jan  5 10:55 Movies\n",
      "drwx------+  5 chaochih  staff   160 Jan  5 10:53 Documents\n",
      "drwxr-xr-x+  5 chaochih  staff   160 Dec 31 22:42 Public\n"
     ]
    }
   ],
   "source": [
    "# Make a directory called \"workshop\"\n",
    "mkdir workshop\n",
    "# See if directory was created\n",
    "# Use long listing option (-l) and list based on creation time (-t)\n",
    "ls -lt"
   ]
  },
  {
   "cell_type": "code",
   "execution_count": 6,
   "metadata": {},
   "outputs": [
    {
     "name": "stdout",
     "output_type": "stream",
     "text": [
      "\n",
      "LS(1)                     BSD General Commands Manual                    LS(1)\n",
      "\n",
      "NAME\n",
      "     ls -- list directory contents\n",
      "\n",
      "SYNOPSIS\n",
      "     ls [-ABCFGHLOPRSTUW@abcdefghiklmnopqrstuwx1] [file ...]\n",
      "\n",
      "DESCRIPTION\n",
      "     For each operand that names a file of a type other than directory, ls\n",
      "     displays its name as well as any requested, associated information.  For\n",
      "     each operand that names a file of type directory, ls displays the names\n",
      "     of files contained within that directory, as well as any requested, asso-\n",
      "     ciated information.\n",
      "\n",
      "     If no operands are given, the contents of the current directory are dis-\n",
      "     played.  If more than one operand is given, non-directory operands are\n",
      "     displayed first; directory and non-directory operands are sorted sepa-\n",
      "     rately and in lexicographical order.\n",
      "\n",
      "     The following options are available:\n",
      "\n",
      "     -@      Display extended attribute keys and sizes in long (-l) output.\n",
      "\n",
      "     -1      (The numeric digit ``one''.)  Force output to be one entry per\n",
      "             line.  This is the default when output is not to a terminal.\n",
      "\n",
      "     -A      List all entries except for . and ...  Always set for the super-\n",
      "             user.\n",
      "\n",
      "     -a      Include directory entries whose names begin with a dot (.).\n",
      "\n",
      "     -B      Force printing of non-printable characters (as defined by\n",
      "             ctype(3) and current locale settings) in file names as \\xxx,\n",
      "             where xxx is the numeric value of the character in octal.\n",
      "\n",
      "     -b      As -B, but use C escape codes whenever possible.\n",
      "\n",
      "     -C      Force multi-column output; this is the default when output is to\n",
      "             a terminal.\n",
      "\n",
      "     -c      Use time when file status was last changed for sorting (-t) or\n",
      "             long printing (-l).\n",
      "\n",
      "     -d      Directories are listed as plain files (not searched recursively).\n",
      "\n",
      "     -e      Print the Access Control List (ACL) associated with the file, if\n",
      "             present, in long (-l) output.\n",
      "\n",
      "     -F      Display a slash (`/') immediately after each pathname that is a\n",
      "             directory, an asterisk (`*') after each that is executable, an at\n",
      "             sign (`@') after each symbolic link, an equals sign (`=') after\n",
      "             each socket, a percent sign (`%') after each whiteout, and a ver-\n",
      "             tical bar (`|') after each that is a FIFO.\n",
      "\n",
      "     -f      Output is not sorted.  This option turns on the -a option.\n",
      "\n",
      "     -G      Enable colorized output.  This option is equivalent to defining\n",
      "             CLICOLOR in the environment.  (See below.)\n",
      "\n",
      "     -g      This option is only available for compatibility with POSIX; it is\n",
      "             used to display the group name in the long (-l) format output\n",
      "             (the owner name is suppressed).\n",
      "\n",
      "     -H      Symbolic links on the command line are followed.  This option is\n",
      "             assumed if none of the -F, -d, or -l options are specified.\n",
      "\n",
      "     -h      When used with the -l option, use unit suffixes: Byte, Kilobyte,\n",
      "             Megabyte, Gigabyte, Terabyte and Petabyte in order to reduce the\n",
      "             number of digits to three or less using base 2 for sizes.\n",
      "\n",
      "     -i      For each file, print the file's file serial number (inode num-\n",
      "             ber).\n",
      "\n",
      "     -k      If the -s option is specified, print the file size allocation in\n",
      "             kilobytes, not blocks.  This option overrides the environment\n",
      "             variable BLOCKSIZE.\n",
      "\n",
      "     -L      Follow all symbolic links to final target and list the file or\n",
      "             directory the link references rather than the link itself.  This\n",
      "             option cancels the -P option.\n",
      "\n",
      "     -l      (The lowercase letter ``ell''.)  List in long format.  (See\n",
      "             below.)  If the output is to a terminal, a total sum for all the\n",
      "             file sizes is output on a line before the long listing.\n",
      "\n",
      "     -m      Stream output format; list files across the page, separated by\n",
      "             commas.\n",
      "\n",
      "     -n      Display user and group IDs numerically, rather than converting to\n",
      "             a user or group name in a long (-l) output.  This option turns on\n",
      "             the -l option.\n",
      "\n",
      "     -O      Include the file flags in a long (-l) output.\n",
      "\n",
      "     -o      List in long format, but omit the group id.\n",
      "\n",
      "     -P      If argument is a symbolic link, list the link itself rather than\n",
      "             the object the link references.  This option cancels the -H and\n",
      "             -L options.\n",
      "\n",
      "     -p      Write a slash (`/') after each filename if that file is a direc-\n",
      "             tory.\n",
      "\n",
      "     -q      Force printing of non-graphic characters in file names as the\n",
      "             character `?'; this is the default when output is to a terminal.\n",
      "\n",
      "     -R      Recursively list subdirectories encountered.\n",
      "\n",
      "     -r      Reverse the order of the sort to get reverse lexicographical\n",
      "             order or the oldest entries first (or largest files last, if com-\n",
      "             bined with sort by size\n",
      "\n",
      "     -S      Sort files by size\n",
      "\n",
      "     -s      Display the number of file system blocks actually used by each\n",
      "             file, in units of 512 bytes, where partial units are rounded up\n",
      "             to the next integer value.  If the output is to a terminal, a\n",
      "             total sum for all the file sizes is output on a line before the\n",
      "             listing.  The environment variable BLOCKSIZE overrides the unit\n",
      "             size of 512 bytes.\n",
      "\n",
      "     -T      When used with the -l (lowercase letter ``ell'') option, display\n",
      "             complete time information for the file, including month, day,\n",
      "             hour, minute, second, and year.\n",
      "\n",
      "     -t      Sort by time modified (most recently modified first) before sort-\n",
      "             ing the operands by lexicographical order.\n",
      "\n",
      "     -u      Use time of last access, instead of last modification of the file\n",
      "             for sorting (-t) or long printing (-l).\n",
      "\n",
      "     -U      Use time of file creation, instead of last modification for sort-\n",
      "             ing (-t) or long output (-l).\n",
      "\n",
      "     -v      Force unedited printing of non-graphic characters; this is the\n",
      "             default when output is not to a terminal.\n",
      "\n",
      "     -W      Display whiteouts when scanning directories.  (-S) flag).\n",
      "\n",
      "     -w      Force raw printing of non-printable characters.  This is the\n",
      "             default when output is not to a terminal.\n",
      "\n",
      "     -x      The same as -C, except that the multi-column output is produced\n",
      "             with entries sorted across, rather than down, the columns.\n",
      "\n",
      "     The -1, -C, -x, and -l options all override each other; the last one\n",
      "     specified determines the format used.\n",
      "\n",
      "     The -c and -u options override each other; the last one specified deter-\n",
      "     mines the file time used.\n",
      "\n",
      "     The -B, -b, -w, and -q options all override each other; the last one\n",
      "     specified determines the format used for non-printable characters.\n",
      "\n",
      "     The -H, -L and -P options all override each other (either partially or\n",
      "     fully); they are applied in the order specified.\n",
      "\n",
      "     By default, ls lists one entry per line to standard output; the excep-\n",
      "     tions are to terminals or when the -C or -x options are specified.\n",
      "\n",
      "     File information is displayed with one or more <blank>s separating the\n",
      "     information associated with the -i, -s, and -l options.\n",
      "\n",
      "   The Long Format\n",
      "     If the -l option is given, the following information is displayed for\n",
      "     each file: file mode, number of links, owner name, group name, number of\n",
      "     bytes in the file, abbreviated month, day-of-month file was last modi-\n",
      "     fied, hour file last modified, minute file last modified, and the path-\n",
      "     name.  In addition, for each directory whose contents are displayed, the\n",
      "     total number of 512-byte blocks used by the files in the directory is\n",
      "     displayed on a line by itself, immediately before the information for the\n",
      "     files in the directory.  If the file or directory has extended\n",
      "     attributes, the permissions field printed by the -l option is followed by\n",
      "     a '@' character.  Otherwise, if the file or directory has extended secu-\n",
      "     rity information (such as an access control list), the permissions field\n",
      "     printed by the -l option is followed by a '+' character.\n",
      "\n",
      "     If the modification time of the file is more than 6 months in the past or\n"
     ]
    },
    {
     "name": "stdout",
     "output_type": "stream",
     "text": [
      "     future, then the year of the last modification is displayed in place of\n",
      "     the hour and minute fields.\n",
      "\n",
      "     If the owner or group names are not a known user or group name, or the -n\n",
      "     option is given, the numeric ID's are displayed.\n",
      "\n",
      "     If the file is a character special or block special file, the major and\n",
      "     minor device numbers for the file are displayed in the size field.  If\n",
      "     the file is a symbolic link, the pathname of the linked-to file is pre-\n",
      "     ceded by ``->''.\n",
      "\n",
      "     The file mode printed under the -l option consists of the entry type,\n",
      "     owner permissions, and group permissions.  The entry type character\n",
      "     describes the type of file, as follows:\n",
      "\n",
      "           b     Block special file.\n",
      "           c     Character special file.\n",
      "           d     Directory.\n",
      "           l     Symbolic link.\n",
      "           s     Socket link.\n",
      "           p     FIFO.\n",
      "           -     Regular file.\n",
      "\n",
      "     The next three fields are three characters each: owner permissions, group\n",
      "     permissions, and other permissions.  Each field has three character posi-\n",
      "     tions:\n",
      "\n",
      "           1.   If r, the file is readable; if -, it is not readable.\n",
      "\n",
      "           2.   If w, the file is writable; if -, it is not writable.\n",
      "\n",
      "           3.   The first of the following that applies:\n",
      "\n",
      "                      S     If in the owner permissions, the file is not exe-\n",
      "                            cutable and set-user-ID mode is set.  If in the\n",
      "                            group permissions, the file is not executable and\n",
      "                            set-group-ID mode is set.\n",
      "\n",
      "                      s     If in the owner permissions, the file is exe-\n",
      "                            cutable and set-user-ID mode is set.  If in the\n",
      "                            group permissions, the file is executable and set-\n",
      "                            group-ID mode is set.\n",
      "\n",
      "                      x     The file is executable or the directory is search-\n",
      "                            able.\n",
      "\n",
      "                      -     The file is neither readable, writable, exe-\n",
      "                            cutable, nor set-user-ID nor set-group-ID mode,\n",
      "                            nor sticky.  (See below.)\n",
      "\n",
      "                These next two apply only to the third character in the last\n",
      "                group (other permissions).\n",
      "\n",
      "                      T     The sticky bit is set (mode 1000), but not execute\n",
      "                            or search permission.  (See chmod(1) or\n",
      "                            sticky(8).)\n",
      "\n",
      "                      t     The sticky bit is set (mode 1000), and is search-\n",
      "                            able or executable.  (See chmod(1) or sticky(8).)\n",
      "\n",
      "EXAMPLES\n",
      "     The following is how to do an ls listing sorted by increasing size\n",
      "\n",
      "           ls -lrS\n",
      "\n",
      "DIAGNOSTICS\n",
      "     The ls utility exits 0 on success, and >0 if an error occurs.\n",
      "\n",
      "ENVIRONMENT\n",
      "     The following environment variables affect the execution of ls:\n",
      "\n",
      "     BLOCKSIZE       If the environment variable BLOCKSIZE is set, the block\n",
      "                     counts (see -s) will be displayed in units of that size\n",
      "                     block.\n",
      "\n",
      "     CLICOLOR        Use ANSI color sequences to distinguish file types.  See\n",
      "                     LSCOLORS below.  In addition to the file types mentioned\n",
      "                     in the -F option some extra attributes (setuid bit set,\n",
      "                     etc.) are also displayed.  The colorization is dependent\n",
      "                     on a terminal type with the proper termcap(5) capabili-\n",
      "                     ties.  The default ``cons25'' console has the proper\n",
      "                     capabilities, but to display the colors in an xterm(1),\n",
      "                     for example, the TERM variable must be set to\n",
      "                     ``xterm-color''.  Other terminal types may require simi-\n",
      "                     lar adjustments.  Colorization is silently disabled if\n",
      "                     the output isn't directed to a terminal unless the\n",
      "                     CLICOLOR_FORCE variable is defined.\n",
      "\n",
      "     CLICOLOR_FORCE  Color sequences are normally disabled if the output isn't\n",
      "                     directed to a terminal.  This can be overridden by set-\n",
      "                     ting this flag.  The TERM variable still needs to refer-\n",
      "                     ence a color capable terminal however otherwise it is not\n",
      "                     possible to determine which color sequences to use.\n",
      "\n",
      "     COLUMNS         If this variable contains a string representing a decimal\n",
      "                     integer, it is used as the column position width for dis-\n",
      "                     playing multiple-text-column output.  The ls utility cal-\n",
      "                     culates how many pathname text columns to display based\n",
      "                     on the width provided.  (See -C and -x.)\n",
      "\n",
      "     LANG            The locale to use when determining the order of day and\n",
      "                     month in the long -l format output.  See environ(7) for\n",
      "                     more information.\n",
      "\n",
      "     LSCOLORS        The value of this variable describes what color to use\n",
      "                     for which attribute when colors are enabled with\n",
      "                     CLICOLOR.  This string is a concatenation of pairs of the\n",
      "                     format fb, where f is the foreground color and b is the\n",
      "                     background color.\n",
      "\n",
      "                     The color designators are as follows:\n",
      "\n",
      "                           a     black\n",
      "                           b     red\n",
      "                           c     green\n",
      "                           d     brown\n",
      "                           e     blue\n",
      "                           f     magenta\n",
      "                           g     cyan\n",
      "                           h     light grey\n",
      "                           A     bold black, usually shows up as dark grey\n",
      "                           B     bold red\n",
      "                           C     bold green\n",
      "                           D     bold brown, usually shows up as yellow\n",
      "                           E     bold blue\n",
      "                           F     bold magenta\n",
      "                           G     bold cyan\n",
      "                           H     bold light grey; looks like bright white\n",
      "                           x     default foreground or background\n",
      "\n",
      "                     Note that the above are standard ANSI colors.  The actual\n",
      "                     display may differ depending on the color capabilities of\n",
      "                     the terminal in use.\n",
      "\n",
      "                     The order of the attributes are as follows:\n",
      "\n",
      "                           1.   directory\n",
      "                           2.   symbolic link\n",
      "                           3.   socket\n",
      "                           4.   pipe\n",
      "                           5.   executable\n",
      "                           6.   block special\n",
      "                           7.   character special\n",
      "                           8.   executable with setuid bit set\n",
      "                           9.   executable with setgid bit set\n",
      "                           10.  directory writable to others, with sticky bit\n",
      "                           11.  directory writable to others, without sticky\n",
      "                                bit\n",
      "\n",
      "                     The default is \"exfxcxdxbxegedabagacad\", i.e. blue fore-\n",
      "                     ground and default background for regular directories,\n",
      "                     black foreground and red background for setuid executa-\n",
      "                     bles, etc.\n",
      "\n",
      "     LS_COLWIDTHS    If this variable is set, it is considered to be a colon-\n",
      "                     delimited list of minimum column widths.  Unreasonable\n",
      "                     and insufficient widths are ignored (thus zero signifies\n",
      "                     a dynamically sized column).  Not all columns have\n",
      "                     changeable widths.  The fields are, in order: inode,\n",
      "                     block count, number of links, user name, group name,\n",
      "                     flags, file size, file name.\n",
      "\n",
      "     TERM            The CLICOLOR functionality depends on a terminal type\n",
      "                     with color capabilities.\n",
      "\n",
      "     TZ              The timezone to use when displaying dates.  See\n",
      "                     environ(7) for more information.\n",
      "\n",
      "COMPATIBILITY\n",
      "     The group field is now automatically included in the long listing for\n",
      "     files in order to be compatible with the IEEE Std 1003.2 (``POSIX.2'')\n"
     ]
    },
    {
     "name": "stdout",
     "output_type": "stream",
     "text": [
      "     specification.\n",
      "\n",
      "LEGACY DESCRIPTION\n",
      "     In legacy mode, the -f option does not turn on the -a option and the -g,\n",
      "     -n, and -o options do not turn on the -l option.\n",
      "\n",
      "     Also, the -o option causes the file flags to be included in a long (-l)\n",
      "     output; there is no -O option.\n",
      "\n",
      "     When -H is specified (and not overridden by -L or -P) and a file argument\n",
      "     is a symlink that resolves to a non-directory file, the output will\n",
      "     reflect the nature of the link, rather than that of the file.  In legacy\n",
      "     operation, the output will describe the file.\n",
      "\n",
      "     For more information about legacy mode, see compat(5).\n",
      "\n",
      "SEE ALSO\n",
      "     chflags(1), chmod(1), sort(1), xterm(1), compat(5), termcap(5),\n",
      "     symlink(7), sticky(8)\n",
      "\n",
      "STANDARDS\n",
      "     The ls utility conforms to IEEE Std 1003.1-2001 (``POSIX.1'').\n",
      "\n",
      "HISTORY\n",
      "     An ls command appeared in Version 1 AT&T UNIX.\n",
      "\n",
      "BUGS\n",
      "     To maintain backward compatibility, the relationships between the many\n",
      "     options are quite complex.\n",
      "\n",
      "BSD                              May 19, 2002                              BSD\n"
     ]
    }
   ],
   "source": [
    "# To get help on commands,\n",
    "# pull up the manual with detailed documentation for each command,\n",
    "# The general syntax will be: \"man\" command followed by your command\n",
    "man ls"
   ]
  },
  {
   "cell_type": "code",
   "execution_count": 7,
   "metadata": {},
   "outputs": [],
   "source": [
    "# Now, let's go into our new directory\n",
    "cd workshop"
   ]
  },
  {
   "cell_type": "code",
   "execution_count": 8,
   "metadata": {},
   "outputs": [
    {
     "name": "stdout",
     "output_type": "stream",
     "text": [
      "/Users/chaochih/workshop\n"
     ]
    }
   ],
   "source": [
    "# And check where we are\n",
    "pwd"
   ]
  },
  {
   "cell_type": "markdown",
   "metadata": {},
   "source": [
    "# Example 1: Combine two files and redirect to a single file\n",
    "\n",
    "In this example, we will combine two FASTA files (`tb1-protein.fasta` and `tga1-protein.fasta`). FASTA files contain nucleotide sequences or peptide/protein sequences with nucleotides/amino acids represented by single letter codes."
   ]
  },
  {
   "cell_type": "markdown",
   "metadata": {},
   "source": [
    "First, we will download our file using the command \"wget\"\n",
    "\n",
    "    Note: wget by default downloads the file into your current working directory\n",
    "    There is an option (-P) to specify the output directory\n",
    "    i.e. wget -P /path/to/output_directory https://link.to.yourfile.com/filename.txt)"
   ]
  },
  {
   "cell_type": "code",
   "execution_count": 9,
   "metadata": {},
   "outputs": [
    {
     "name": "stdout",
     "output_type": "stream",
     "text": [
      "--2018-01-11 19:41:03--  https://raw.githubusercontent.com/vsbuffalo/bds-files/master/chapter-03-remedial-unix/tb1-protein.fasta\n",
      "Resolving raw.githubusercontent.com (raw.githubusercontent.com)... 151.101.184.133\n",
      "Connecting to raw.githubusercontent.com (raw.githubusercontent.com)|151.101.184.133|:443... connected.\n",
      "HTTP request sent, awaiting response... 200 OK\n",
      "Length: 262 [text/plain]\n",
      "Saving to: ‘tb1-protein.fasta.1’\n",
      "\n",
      "tb1-protein.fasta.1 100%[===================>]     262  --.-KB/s    in 0s      \n",
      "\n",
      "2018-01-11 19:41:04 (9.99 MB/s) - ‘tb1-protein.fasta.1’ saved [353]\n",
      "\n",
      "--2018-01-11 19:41:04--  https://raw.githubusercontent.com/vsbuffalo/bds-files/master/chapter-03-remedial-unix/tga1-protein.fasta\n",
      "Resolving raw.githubusercontent.com (raw.githubusercontent.com)... 151.101.184.133\n",
      "Connecting to raw.githubusercontent.com (raw.githubusercontent.com)|151.101.184.133|:443... connected.\n",
      "HTTP request sent, awaiting response... 200 OK\n",
      "Length: 147 [text/plain]\n",
      "Saving to: ‘tga1-protein.fasta.1’\n",
      "\n",
      "tga1-protein.fasta. 100%[===================>]     147  --.-KB/s    in 0s      \n",
      "\n",
      "2018-01-11 19:41:04 (6.68 MB/s) - ‘tga1-protein.fasta.1’ saved [152]\n",
      "\n"
     ]
    }
   ],
   "source": [
    "# File 1 is tb1-protein.fasta\n",
    "wget https://raw.githubusercontent.com/vsbuffalo/bds-files/master/chapter-03-remedial-unix/tb1-protein.fasta\n",
    "\n",
    "# File 2 is tga1-protein.fasta\n",
    "wget https://raw.githubusercontent.com/vsbuffalo/bds-files/master/chapter-03-remedial-unix/tga1-protein.fasta"
   ]
  },
  {
   "cell_type": "code",
   "execution_count": 10,
   "metadata": {},
   "outputs": [
    {
     "name": "stdout",
     "output_type": "stream",
     "text": [
      "combined_proteins.fasta\ttb1-protein.fasta\ttga1-protein.fasta.1\n",
      "dir_listing.stderr\ttb1-protein.fasta.1\n",
      "dir_listing.txt\t\ttga1-protein.fasta\n"
     ]
    }
   ],
   "source": [
    "ls"
   ]
  },
  {
   "cell_type": "code",
   "execution_count": 11,
   "metadata": {},
   "outputs": [
    {
     "name": "stdout",
     "output_type": "stream",
     "text": [
      ">teosinte-branched-1 protein\n",
      "LGVPSVKHMFPFCDSSSPMDLPLYQQLQLSPSSPKTDQSSSFYCYPCSPP\n",
      "FAAADASFPLSYQIGSAAAADATPPQAVINSPDLPVQALMDHAPAPATEL\n",
      "GACASGAEGSGASLDRAAAAARKDRHSKICTAGGMRDRRMRLSLDVARKF\n",
      "FALQDMLGFDKASKTVQWLLNTSKSAIQEIMADDASSECVEDGSSSLSVD\n",
      "GKHNPAEQLGGGGDQKPKGNCRGEGKKPAKASKAAATPKPPRKSANNAHQ\n",
      "VPDKETRAKARERARERTKEKHRMRWVKLASAIDVEAAAASVPSDRPSSN\n",
      "NLSHHSSLSMNMPCAAA\n"
     ]
    }
   ],
   "source": [
    "# View contents of tb1-protein.fasta\n",
    "head tb1-protein.fasta"
   ]
  },
  {
   "cell_type": "code",
   "execution_count": 12,
   "metadata": {},
   "outputs": [
    {
     "name": "stdout",
     "output_type": "stream",
     "text": [
      ">teosinte-glume-architecture-1 protein\n",
      "DSDCALSLLSAPANSSGIDVSRMVRPTEHVPMAQQPVVPGLQFGSASWFP\n",
      "RPQASTGGSFVPSCPAAVEGEQQLNAVLGPNDSEVSMNYGGMFHVGGGSG\n",
      "GGEGSSDGGT\n"
     ]
    }
   ],
   "source": [
    "# View contents of tga1-protein.fasta\n",
    "head tga1-protein.fasta"
   ]
  },
  {
   "cell_type": "code",
   "execution_count": 13,
   "metadata": {},
   "outputs": [
    {
     "name": "stdout",
     "output_type": "stream",
     "text": [
      ">teosinte-branched-1 protein\n",
      "LGVPSVKHMFPFCDSSSPMDLPLYQQLQLSPSSPKTDQSSSFYCYPCSPP\n",
      "FAAADASFPLSYQIGSAAAADATPPQAVINSPDLPVQALMDHAPAPATEL\n",
      "GACASGAEGSGASLDRAAAAARKDRHSKICTAGGMRDRRMRLSLDVARKF\n",
      "FALQDMLGFDKASKTVQWLLNTSKSAIQEIMADDASSECVEDGSSSLSVD\n",
      "GKHNPAEQLGGGGDQKPKGNCRGEGKKPAKASKAAATPKPPRKSANNAHQ\n",
      "VPDKETRAKARERARERTKEKHRMRWVKLASAIDVEAAAASVPSDRPSSN\n",
      "NLSHHSSLSMNMPCAAA\n",
      ">teosinte-glume-architecture-1 protein\n",
      "DSDCALSLLSAPANSSGIDVSRMVRPTEHVPMAQQPVVPGLQFGSASWFP\n",
      "RPQASTGGSFVPSCPAAVEGEQQLNAVLGPNDSEVSMNYGGMFHVGGGSG\n",
      "GGEGSSDGGT\n"
     ]
    }
   ],
   "source": [
    "# Concatenate two files with \"cat\" command and print to standard output\n",
    "cat tb1-protein.fasta tga1-protein.fasta"
   ]
  },
  {
   "cell_type": "code",
   "execution_count": 14,
   "metadata": {},
   "outputs": [],
   "source": [
    "# Now we will redirect (save) our output into a file\n",
    "cat tb1-protein.fasta tga1-protein.fasta > combined_proteins.fasta"
   ]
  },
  {
   "cell_type": "code",
   "execution_count": 15,
   "metadata": {},
   "outputs": [
    {
     "name": "stdout",
     "output_type": "stream",
     "text": [
      "total 56\n",
      "-rw-r--r--  1 chaochih  staff  505 Jan 11 19:46 combined_proteins.fasta\n",
      "-rw-r--r--@ 1 chaochih  staff  152 Jan 11 19:41 tga1-protein.fasta.1\n",
      "-rw-r--r--@ 1 chaochih  staff  353 Jan 11 19:41 tb1-protein.fasta.1\n",
      "-rw-r--r--  1 chaochih  staff   66 Jan  7 21:42 dir_listing.txt\n",
      "-rw-r--r--  1 chaochih  staff   42 Jan  7 21:42 dir_listing.stderr\n",
      "-rw-r--r--@ 1 chaochih  staff  152 Jan  7 21:23 tga1-protein.fasta\n",
      "-rw-r--r--@ 1 chaochih  staff  353 Jan  7 21:23 tb1-protein.fasta\n"
     ]
    }
   ],
   "source": [
    "# Let's see if our file was created\n",
    "ls -lt"
   ]
  },
  {
   "cell_type": "markdown",
   "metadata": {},
   "source": [
    "# Example 2: Redirect output of ls -l to standard error\n",
    "\n",
    "For this example, we will use the tb1-protein.fasta and a non-existent fasta file, leaf.fasta."
   ]
  },
  {
   "cell_type": "code",
   "execution_count": 16,
   "metadata": {},
   "outputs": [
    {
     "name": "stdout",
     "output_type": "stream",
     "text": [
      "ls: leaf.fasta: No such file or directory\n",
      "-rw-r--r--@ 1 chaochih  staff  353 Jan  7 21:23 tb1-protein.fasta\n"
     ]
    },
    {
     "ename": "",
     "evalue": "1",
     "output_type": "error",
     "traceback": []
    }
   ],
   "source": [
    "# We are going to try to list a file that doesn't exist, which will return an error message\n",
    "ls -l tb1-protein.fasta leaf.fasta"
   ]
  },
  {
   "cell_type": "code",
   "execution_count": 18,
   "metadata": {},
   "outputs": [
    {
     "ename": "",
     "evalue": "1",
     "output_type": "error",
     "traceback": []
    }
   ],
   "source": [
    "# Now we will redirect (save) the error message to a file\n",
    "# We will redirect the listing of tb1-protein.fasta to dir_listing.txt\n",
    "# and the standard error message to another file called dir_listing.stderr\n",
    "ls -l tb1-protein.fasta leaf.fasta > dir_listing.txt 2> dir_listing.stderr"
   ]
  },
  {
   "cell_type": "code",
   "execution_count": 19,
   "metadata": {},
   "outputs": [
    {
     "name": "stdout",
     "output_type": "stream",
     "text": [
      "total 56\n",
      "-rw-r--r--  1 chaochih  staff   66 Jan 11 19:47 dir_listing.txt\n",
      "-rw-r--r--  1 chaochih  staff   42 Jan 11 19:47 dir_listing.stderr\n",
      "-rw-r--r--  1 chaochih  staff  505 Jan 11 19:46 combined_proteins.fasta\n",
      "-rw-r--r--@ 1 chaochih  staff  152 Jan 11 19:41 tga1-protein.fasta.1\n",
      "-rw-r--r--@ 1 chaochih  staff  353 Jan 11 19:41 tb1-protein.fasta.1\n",
      "-rw-r--r--@ 1 chaochih  staff  152 Jan  7 21:23 tga1-protein.fasta\n",
      "-rw-r--r--@ 1 chaochih  staff  353 Jan  7 21:23 tb1-protein.fasta\n"
     ]
    }
   ],
   "source": [
    "# Let's see if we've created our files\n",
    "ls -lt"
   ]
  },
  {
   "cell_type": "code",
   "execution_count": 20,
   "metadata": {},
   "outputs": [
    {
     "name": "stdout",
     "output_type": "stream",
     "text": [
      "-rw-r--r--@ 1 chaochih  staff  353 Jan  7 21:23 tb1-protein.fasta\n"
     ]
    }
   ],
   "source": [
    "# Let's view our dir_listing.txt file\n",
    "head dir_listing.txt"
   ]
  },
  {
   "cell_type": "code",
   "execution_count": 21,
   "metadata": {},
   "outputs": [
    {
     "name": "stdout",
     "output_type": "stream",
     "text": [
      "ls: leaf.fasta: No such file or directory\n"
     ]
    }
   ],
   "source": [
    "# Let's view our dir_listing.stderr file\n",
    "head dir_listing.stderr"
   ]
  },
  {
   "cell_type": "markdown",
   "metadata": {},
   "source": [
    "# Piping\n",
    "\n",
    "Piping is great when you have multiple steps you want to perform on your data but only want to save the final output and not the intermediate files. This is helpful when you are working with large datasets and do not have enough memory to store the intermediate files.\n",
    "\n",
    "![Image from web.cse.ohio-state.edu](http://web.cse.ohio-state.edu/~mamrak.1/CIS762/unix_pipes.gif)"
   ]
  },
  {
   "cell_type": "markdown",
   "metadata": {},
   "source": [
    "# Example 3: Extracting chromosome 1, sorting by start position, and redirecting to file using pipes\n",
    "\n",
    "For this example we will be using toy data I've already downloaded. We will be working with a file called `test.bed`.\n",
    "\n",
    "### Quick description of BED file\n",
    "\n",
    "A BED file describes chromosome intervals and is a standard file format in bioinformatics. There are always 3 columns in a bed file: Chromosome, Start Position, and End Position\n",
    "\n",
    "Example from Vince Buffalo's Chapter 11:\n",
    "\n",
    "```bash\n",
    "1\t216596556\t216596738\n",
    "1\t216595194\t216595882\n",
    "1\t216591856\t216592021\n",
    "1\t216538295\t216538427\n",
    "1\t216500933\t216500996\n",
    "```"
   ]
  },
  {
   "cell_type": "code",
   "execution_count": 22,
   "metadata": {},
   "outputs": [],
   "source": [
    "# First, we will go into our toy_data directory\n",
    "# Note: you may have to change the path here\n",
    "cd /Users/chaochih/GitHub/Bash_Demo/toy_data"
   ]
  },
  {
   "cell_type": "code",
   "execution_count": 23,
   "metadata": {},
   "outputs": [
    {
     "name": "stdout",
     "output_type": "stream",
     "text": [
      "/Users/chaochih/GitHub/Bash_Demo/toy_data\n"
     ]
    }
   ],
   "source": [
    "# Make sure we are in the correct directory\n",
    "pwd"
   ]
  },
  {
   "cell_type": "code",
   "execution_count": 24,
   "metadata": {},
   "outputs": [
    {
     "name": "stdout",
     "output_type": "stream",
     "text": [
      "Mus_musculus.GRCm38.75.dna.chromosome.8.fa.gz\n",
      "Mus_musculus.GRCm38.75_chr1.bed\n",
      "Mus_musculus.GRCm38.75_chr1.gtf\n",
      "Mus_musculus.GRCm38.75_chr1_bed.csv\n",
      "NA12891_CEU_sample.vcf.gz\n",
      "chroms.txt\n",
      "contam.fastq\n",
      "contaminated.fastq\n",
      "egfr_flank.fasta\n",
      "example.bed\n",
      "example2.bed\n",
      "gene-1.bed\n",
      "gene-2.bed\n",
      "genotypes.txt\n",
      "mm10_snp137_chr1_trunc.bed.gz\n",
      "mm_GRCm38.75_protein_coding_genes.gtf\n",
      "mm_gene_names.txt\n",
      "tb1-protein.fasta\n",
      "test.bed\n",
      "test_chr1_only.bed\n",
      "test_chr1_only_sorted.txt\n",
      "test_chr1_only_unsorted.txt\n",
      "tga1-protein.fasta\n",
      "untreated1_chr4.fq\n"
     ]
    }
   ],
   "source": [
    "# See contents in directory\n",
    "ls"
   ]
  },
  {
   "cell_type": "code",
   "execution_count": 25,
   "metadata": {},
   "outputs": [
    {
     "name": "stdout",
     "output_type": "stream",
     "text": [
      "chrom\tstart\tend\n",
      "chr1\t26\t39\n",
      "chr1\t32\t47\n",
      "chr3\t11\t28\n",
      "chr1\t40\t49\n",
      "chr3\t16\t27\n",
      "chr1\t9\t28\n",
      "chr2\t35\t54\n",
      "chr1\t10\t19\n"
     ]
    }
   ],
   "source": [
    "# First, let's take a look at our file\n",
    "head test.bed"
   ]
  },
  {
   "cell_type": "code",
   "execution_count": 26,
   "metadata": {},
   "outputs": [
    {
     "name": "stdout",
     "output_type": "stream",
     "text": [
      "chr1\t26\t39\n",
      "chr1\t32\t47\n",
      "chr1\t40\t49\n",
      "chr1\t9\t28\n",
      "chr1\t10\t19\n"
     ]
    }
   ],
   "source": [
    "# We want to extract only rows that are from chromosome 1 from the file\n",
    "grep \"chr1\" test.bed"
   ]
  },
  {
   "cell_type": "code",
   "execution_count": 27,
   "metadata": {},
   "outputs": [
    {
     "name": "stdout",
     "output_type": "stream",
     "text": [
      "chr1\t9\t28\n",
      "chr1\t10\t19\n",
      "chr1\t26\t39\n",
      "chr1\t32\t47\n",
      "chr1\t40\t49\n"
     ]
    }
   ],
   "source": [
    "# After we extract chromosome 1, we will sort the data by column 2, which\n",
    "# is the start positions of the interval\n",
    "# The -k option in sort allows us to sort by only column 2\n",
    "# The -n option sorts numerically\n",
    "grep \"chr1\" test.bed | sort -k2,2 -n"
   ]
  },
  {
   "cell_type": "code",
   "execution_count": 28,
   "metadata": {},
   "outputs": [],
   "source": [
    "# Now, let's save our sorted subset to a file\n",
    "grep \"chr1\" test.bed | sort -k2,2 -n > test_chr1_only.bed"
   ]
  },
  {
   "cell_type": "code",
   "execution_count": 29,
   "metadata": {},
   "outputs": [
    {
     "name": "stdout",
     "output_type": "stream",
     "text": [
      "total 271400\n",
      "-rw-r--r--@ 1 chaochih  staff        54 Jan 11 19:48 test_chr1_only.bed\n"
     ]
    }
   ],
   "source": [
    "# Let's see if we've created our file\n",
    "# We will list our files from most recent to oldest then\n",
    "# we'll use the -n option to output only the first 2 lines\n",
    "ls -lt | head -n 2"
   ]
  },
  {
   "cell_type": "markdown",
   "metadata": {},
   "source": [
    "# Example 3: Extract everything that is not chromosome 1\n",
    "\n",
    "Now we will do the inverse of what we just did above. We will pull out all rows that are NOT chromosome 1."
   ]
  },
  {
   "cell_type": "code",
   "execution_count": 30,
   "metadata": {},
   "outputs": [
    {
     "name": "stdout",
     "output_type": "stream",
     "text": [
      "chrom\tstart\tend\n",
      "chr3\t11\t28\n",
      "chr3\t16\t27\n",
      "chr2\t35\t54\n"
     ]
    }
   ],
   "source": [
    "# Use the -v option in grep to invert the match\n",
    "grep -v \"chr1\" test.bed"
   ]
  },
  {
   "cell_type": "markdown",
   "metadata": {},
   "source": [
    "# More fun with streams\n",
    "\n",
    "![Image from Wikipedia page on tees](https://encrypted-tbn0.gstatic.com/images?q=tbn:ANd9GcS6GxQjYRvRw2voB6XCi-oXQ2Jsv8fUbB7joqPlaqrY0IHXSmuHBQ)\n",
    "\n",
    "`tee` is a neat command if you want to only write a single line of code but output many intermediate files.\n",
    "\n",
    "For this example, we'll continue to use `test.bed` and run a similar command as in Example 2.\n"
   ]
  },
  {
   "cell_type": "code",
   "execution_count": 31,
   "metadata": {},
   "outputs": [
    {
     "name": "stdout",
     "output_type": "stream",
     "text": [
      "chr1\t9\t28\n",
      "chr1\t10\t19\n",
      "chr1\t26\t39\n",
      "chr1\t32\t47\n",
      "chr1\t40\t49\n"
     ]
    }
   ],
   "source": [
    "grep \"chr1\" test.bed | tee test_chr1_only_unsorted.txt | sort -k2,2 -n | tee test_chr1_only_sorted.txt | head"
   ]
  },
  {
   "cell_type": "code",
   "execution_count": 32,
   "metadata": {},
   "outputs": [
    {
     "name": "stdout",
     "output_type": "stream",
     "text": [
      "total 271400\n",
      "-rw-r--r--@ 1 chaochih  staff        54 Jan 11 19:50 test_chr1_only_sorted.txt\n",
      "-rw-r--r--@ 1 chaochih  staff        54 Jan 11 19:50 test_chr1_only_unsorted.txt\n"
     ]
    }
   ],
   "source": [
    "# Let's see which files we've created\n",
    "ls -lt | head -n 3"
   ]
  },
  {
   "cell_type": "code",
   "execution_count": 33,
   "metadata": {},
   "outputs": [
    {
     "name": "stdout",
     "output_type": "stream",
     "text": [
      "chr1\t26\t39\n",
      "chr1\t32\t47\n",
      "chr1\t40\t49\n",
      "chr1\t9\t28\n",
      "chr1\t10\t19\n"
     ]
    }
   ],
   "source": [
    "# Now let's take a look at what's inside these two files\n",
    "head test_chr1_only_unsorted.txt"
   ]
  },
  {
   "cell_type": "code",
   "execution_count": 34,
   "metadata": {},
   "outputs": [
    {
     "name": "stdout",
     "output_type": "stream",
     "text": [
      "chr1\t9\t28\n",
      "chr1\t10\t19\n",
      "chr1\t26\t39\n",
      "chr1\t32\t47\n",
      "chr1\t40\t49\n"
     ]
    }
   ],
   "source": [
    "head test_chr1_only_sorted.txt"
   ]
  },
  {
   "cell_type": "markdown",
   "metadata": {},
   "source": [
    "# Example 4: Looking at differences between data"
   ]
  },
  {
   "cell_type": "code",
   "execution_count": 38,
   "metadata": {},
   "outputs": [
    {
     "name": "stdout",
     "output_type": "stream",
     "text": [
      "Mus_musculus.GRCm38.75_chr1.bed\tgene-2.bed\n",
      "example.bed\t\t\ttest.bed\n",
      "example2.bed\t\t\ttest_chr1_only.bed\n",
      "gene-1.bed\n"
     ]
    }
   ],
   "source": [
    "# List all files that end in .bed\n",
    "# The * is similar to a wild card\n",
    "ls *.bed"
   ]
  },
  {
   "cell_type": "markdown",
   "metadata": {},
   "source": [
    "#### We will be comparing `gene-1.bed` and `gene-2.bed` files\n",
    "\n",
    "We will be using the `diff` command to view the differences between these two files. Remember, `diff` does not work correctly if the files are not sorted in the same order."
   ]
  },
  {
   "cell_type": "code",
   "execution_count": 40,
   "metadata": {},
   "outputs": [
    {
     "name": "stdout",
     "output_type": "stream",
     "text": [
      "3a4\n",
      "> 1\t6222341\t6228319\tGENE00000025907\n",
      "5d5\n",
      "< 1\t6230003\t6230005\tGENE00000025907\n",
      "11c11\n",
      "< 1\t6230003\t6230073\tGENE00000025907\n",
      "---\n",
      "> 1\t6230133\t6230191\tGENE00000025907\n",
      "15d14\n",
      "< 1\t6214645\t6214957\tGENE00000025907\n",
      "18d16\n",
      "< 1\t6230003\t6230073\tGENE00000025907\n",
      "21d18\n",
      "< 1\t6238262\t6238464\tGENE00000025907\n"
     ]
    },
    {
     "ename": "",
     "evalue": "1",
     "output_type": "error",
     "traceback": []
    }
   ],
   "source": [
    "# To show only the differences between the two files\n",
    "# Use the diff command without any flags\n",
    "diff gene-1.bed gene-2.bed"
   ]
  },
  {
   "cell_type": "code",
   "execution_count": 42,
   "metadata": {},
   "outputs": [
    {
     "name": "stdout",
     "output_type": "stream",
     "text": [
      "1\t6206197\t6206270\tGENE00000025907\t\t\t\t1\t6206197\t6206270\tGENE00000025907\n",
      "1\t6223599\t6223745\tGENE00000025907\t\t\t\t1\t6223599\t6223745\tGENE00000025907\n",
      "1\t6227940\t6228049\tGENE00000025907\t\t\t\t1\t6227940\t6228049\tGENE00000025907\n",
      "\t\t\t\t\t\t\t      >\t1\t6222341\t6228319\tGENE00000025907\n",
      "1\t6229959\t6230073\tGENE00000025907\t\t\t\t1\t6229959\t6230073\tGENE00000025907\n",
      "1\t6230003\t6230005\tGENE00000025907\t\t\t      <\n",
      "1\t6233961\t6234087\tGENE00000025907\t\t\t\t1\t6233961\t6234087\tGENE00000025907\n",
      "1\t6234229\t6234311\tGENE00000025907\t\t\t\t1\t6234229\t6234311\tGENE00000025907\n",
      "1\t6206227\t6206270\tGENE00000025907\t\t\t\t1\t6206227\t6206270\tGENE00000025907\n",
      "1\t6227940\t6228049\tGENE00000025907\t\t\t\t1\t6227940\t6228049\tGENE00000025907\n",
      "1\t6229959\t6230073\tGENE00000025907\t\t\t\t1\t6229959\t6230073\tGENE00000025907\n",
      "1\t6230003\t6230073\tGENE00000025907\t\t\t      |\t1\t6230133\t6230191\tGENE00000025907\n",
      "1\t6233961\t6234087\tGENE00000025907\t\t\t\t1\t6233961\t6234087\tGENE00000025907\n",
      "1\t6234229\t6234399\tGENE00000025907\t\t\t\t1\t6234229\t6234399\tGENE00000025907\n",
      "1\t6238262\t6238384\tGENE00000025907\t\t\t\t1\t6238262\t6238384\tGENE00000025907\n",
      "1\t6214645\t6214957\tGENE00000025907\t\t\t      <\n",
      "1\t6227940\t6228049\tGENE00000025907\t\t\t\t1\t6227940\t6228049\tGENE00000025907\n",
      "1\t6229959\t6230073\tGENE00000025907\t\t\t\t1\t6229959\t6230073\tGENE00000025907\n",
      "1\t6230003\t6230073\tGENE00000025907\t\t\t      <\n",
      "1\t6233961\t6234087\tGENE00000025907\t\t\t\t1\t6233961\t6234087\tGENE00000025907\n",
      "1\t6234229\t6234399\tGENE00000025907\t\t\t\t1\t6234229\t6234399\tGENE00000025907\n",
      "1\t6238262\t6238464\tGENE00000025907\t\t\t      <\n",
      "1\t6239952\t6240378\tGENE00000025907\t\t\t\t1\t6239952\t6240378\tGENE00000025907\n"
     ]
    },
    {
     "ename": "",
     "evalue": "1",
     "output_type": "error",
     "traceback": []
    }
   ],
   "source": [
    "# If you want to look at them side by side,\n",
    "# you can use diff -y or diff -u\n",
    "# we will use diff -y in this case\n",
    "diff -y gene-1.bed gene-2.bed"
   ]
  },
  {
   "cell_type": "markdown",
   "metadata": {},
   "source": [
    "# Example 5: Data compression\n",
    "\n",
    "When working with many large files, it's not uncommon to run out of storage space. A solution around this is compressing your files so your data is condensed and takes up less space on your disk drives and transfers faster.\n",
    "\n",
    "Many UNIX/Linux command line tools have an equivalent command to handle compressed files. For example:\n",
    "\n",
    "- `cat` for gzipped files: `zcat`\n",
    "- `grep` for gzipped files: `zgrep`\n",
    "- `diff` for gzipped files: `zdiff`\n",
    "- `less` for gzipped files: `zless`"
   ]
  },
  {
   "cell_type": "code",
   "execution_count": 53,
   "metadata": {},
   "outputs": [
    {
     "name": "stdout",
     "output_type": "stream",
     "text": [
      "\n",
      "GZIP(1)                   BSD General Commands Manual                  GZIP(1)\n",
      "\n",
      "NAME\n",
      "     gzip -- compression/decompression tool using Lempel-Ziv coding (LZ77)\n",
      "\n",
      "SYNOPSIS\n",
      "     gzip [-cdfhkLlNnqrtVv] [-S suffix] file [file [...]]\n",
      "     gunzip [-cfhkLNqrtVv] [-S suffix] file [file [...]]\n",
      "     zcat [-fhV] file [file [...]]\n",
      "\n",
      "DESCRIPTION\n",
      "     The gzip program compresses and decompresses files using Lempel-Ziv cod-\n",
      "     ing (LZ77).  If no files are specified, gzip will compress from standard\n",
      "     input, or decompress to standard output.  When in compression mode, each\n",
      "     file will be replaced with another file with the suffix, set by the -S\n",
      "     suffix option, added, if possible.\n",
      "\n",
      "     In decompression mode, each file will be checked for existence, as will\n",
      "     the file with the suffix added.  Each file argument must contain a sepa-\n",
      "     rate complete archive; when multiple files are indicated, each is decom-\n",
      "     pressed in turn.\n",
      "\n",
      "     In the case of gzcat the resulting data is then concatenated in the man-\n",
      "     ner of cat(1).\n",
      "\n",
      "     If invoked as gunzip then the -d option is enabled.  If invoked as zcat\n",
      "     or gzcat then both the -c and -d options are enabled.\n",
      "\n",
      "     This version of gzip is also capable of decompressing files compressed\n",
      "     using compress(1), bzip2(1), or xz(1).\n",
      "\n",
      "OPTIONS\n",
      "     The following options are available:\n",
      "\n",
      "     -1, --fast\n",
      "\n",
      "     -2, -3, -4, -5, -6, -7, -8\n",
      "\n",
      "     -9, --best        These options change the compression level used, with\n",
      "                       the -1 option being the fastest, with less compression,\n",
      "                       and the -9 option being the slowest, with optimal com-\n",
      "                       pression.  The default compression level is 6.\n",
      "\n",
      "     -c, --stdout, --to-stdout\n",
      "                       This option specifies that output will go to the stan-\n",
      "                       dard output stream, leaving files intact.\n",
      "\n",
      "     -d, --decompress, --uncompress\n",
      "                       This option selects decompression rather than compres-\n",
      "                       sion.\n",
      "\n",
      "     -f, --force       This option turns on force mode.  This allows files\n",
      "                       with multiple links, symbolic links to regular files,\n",
      "                       overwriting of pre-existing files, reading from or\n",
      "                       writing to a terminal, and when combined with the -c\n",
      "                       option, allowing non-compressed data to pass through\n",
      "                       unchanged.\n",
      "\n",
      "     -h, --help        This option prints a usage summary and exits.\n",
      "\n",
      "     -k, --keep        Keep (do not delete) input files during compression or\n",
      "                       decompression.\n",
      "\n",
      "     -L, --license     This option prints gzip license.\n",
      "\n",
      "     -l, --list        This option displays information about the file's com-\n",
      "                       pressed and uncompressed size, ratio, uncompressed\n",
      "                       name.  With the -v option, it also displays the com-\n",
      "                       pression method, CRC, date and time embedded in the\n",
      "                       file.\n",
      "\n",
      "     -N, --name        This option causes the stored filename in the input\n",
      "                       file to be used as the output file.\n",
      "\n",
      "     -n, --no-name     This option stops the filename and timestamp from being\n",
      "                       stored in the output file.\n",
      "\n",
      "     -q, --quiet       With this option, no warnings or errors are printed.\n",
      "\n",
      "     -r, --recursive   This option is used to gzip the files in a directory\n",
      "                       tree individually, using the fts(3) library.\n",
      "\n",
      "     -S suffix, --suffix suffix\n",
      "                       This option changes the default suffix from .gz to\n",
      "                       suffix.\n",
      "\n",
      "     -t, --test        This option will test compressed files for integrity.\n",
      "\n",
      "     -V, --version     This option prints the version of the gzip program.\n",
      "\n",
      "     -v, --verbose     This option turns on verbose mode, which prints the\n",
      "                       compression ratio for each file compressed.\n",
      "\n",
      "ENVIRONMENT\n",
      "     If the environment variable GZIP is set, it is parsed as a white-space\n",
      "     separated list of options handled before any options on the command line.\n",
      "     Options on the command line will override anything in GZIP.\n",
      "\n",
      "EXIT STATUS\n",
      "     The gzip utility exitsA 0 on success, 1 on errors, and 2 if a warning\n",
      "     occurs.\n",
      "\n",
      "SEE ALSO\n",
      "     bzip2(1), compress(1), xz(1), fts(3), zlib(3)\n",
      "\n",
      "HISTORY\n",
      "     The gzip program was originally written by Jean-loup Gailly, licensed\n",
      "     under the GNU Public Licence.  Matthew R. Green wrote a simple front end\n",
      "     for NetBSD 1.3 distribution media, based on the freely re-distributable\n",
      "     zlib library.  It was enhanced to be mostly feature-compatible with the\n",
      "     original GNU gzip program for NetBSD 2.0.\n",
      "\n",
      "     This implementation of gzip was ported based on the NetBSD gzip, and\n",
      "     first appeared in FreeBSD 7.0.\n",
      "\n",
      "AUTHORS\n",
      "     This implementation of gzip was written by Matthew R. Green\n",
      "     <mrg@eterna.com.au> with unpack support written by Xin LI\n",
      "     <delphij@FreeBSD.org>.\n",
      "\n",
      "BUGS\n",
      "     According to RFC 1952, the recorded file size is stored in a 32-bit inte-\n",
      "     ger, therefore, it cannot represent files larger than 4GB.  This limita-\n",
      "     tion also applies to -l option of gzip utility.\n",
      "\n",
      "BSD                            October 26, 2015                            BSD\n"
     ]
    }
   ],
   "source": [
    "# First we'll quickly take a look at the man page on gzip\n",
    "man gzip"
   ]
  },
  {
   "cell_type": "code",
   "execution_count": 52,
   "metadata": {},
   "outputs": [
    {
     "name": "stdout",
     "output_type": "stream",
     "text": [
      " 36M\tMus_musculus.GRCm38.75.dna.chromosome.8.fa.gz\n",
      "1.6M\tMus_musculus.GRCm38.75_chr1.bed\n",
      " 25M\tMus_musculus.GRCm38.75_chr1.gtf\n",
      "1.6M\tMus_musculus.GRCm38.75_chr1_bed.csv\n",
      "4.0K\tNA12891_CEU_sample.vcf.gz\n",
      "4.0K\tchroms.txt\n",
      "4.0K\tcontam.fastq\n",
      "4.0K\tcontaminated.fastq\n",
      "4.0K\tegfr_flank.fasta\n",
      "4.0K\texample.bed\n",
      "4.0K\texample2.bed\n",
      "4.0K\tgene-1.bed\n",
      "4.0K\tgene-2.bed\n",
      "4.0K\tgenotypes.txt\n",
      " 34M\tmm10_snp137_chr1_trunc.bed.gz\n",
      "188K\tmm_GRCm38.75_protein_coding_genes.gtf\n",
      " 16K\tmm_gene_names.txt\n",
      "4.0K\ttb1-protein.fasta\n",
      "4.0K\ttest.bed\n",
      "4.0K\ttest_chr1_only.bed\n",
      "4.0K\ttest_chr1_only_sorted.txt\n",
      "4.0K\ttest_chr1_only_unsorted.txt\n",
      "4.0K\ttga1-protein.fasta\n",
      " 34M\tuntreated1_chr4.fq\n"
     ]
    }
   ],
   "source": [
    "# First let's take a look at our example data to see which file is taking up the most room\n",
    "# We will use the du command\n",
    "du -h *"
   ]
  },
  {
   "cell_type": "code",
   "execution_count": 54,
   "metadata": {},
   "outputs": [],
   "source": [
    "# We will unzip the Mus_musculus.GRCm38.75.dna.chromosome.8.fa.gz file\n",
    "# and save it as a new file\n",
    "# We will use the -c option to output to standard out\n",
    "# and use the -d option to decompress the file\n",
    "gzip -cd Mus_musculus.GRCm38.75.dna.chromosome.8.fa.gz > Mus_musculus.GRCm38.75.dna.chromosome.8.fa"
   ]
  },
  {
   "cell_type": "code",
   "execution_count": 56,
   "metadata": {},
   "outputs": [
    {
     "name": "stdout",
     "output_type": "stream",
     "text": [
      "Mus_musculus.GRCm38.75.dna.chromosome.8.fa\n",
      "Mus_musculus.GRCm38.75.dna.chromosome.8.fa.gz\n",
      "contam.fastq\n",
      "contaminated.fastq\n",
      "egfr_flank.fasta\n",
      "tb1-protein.fasta\n",
      "tga1-protein.fasta\n"
     ]
    }
   ],
   "source": [
    "# Now let's take a look at what files have been created\n",
    "# Since we don't want to see every single file that was created, let's list\n",
    "# any file that has .fa in the filename\n",
    "ls *.fa*"
   ]
  },
  {
   "cell_type": "code",
   "execution_count": 61,
   "metadata": {},
   "outputs": [
    {
     "name": "stdout",
     "output_type": "stream",
     "text": [
      ">8 dna:chromosome chromosome:GRCm38:8:1:129401213:1 REF\n",
      "NNNNNNNNNNNNNNNNNNNNNNNNNNNNNNNNNNNNNNNNNNNNNNNNNNNNNNNNNNNN\n",
      "NNNNNNNNNNNNNNNNNNNNNNNNNNNNNNNNNNNNNNNNNNNNNNNNNNNNNNNNNNNN\n",
      "NNNNNNNNNNNNNNNNNNNNNNNNNNNNNNNNNNNNNNNNNNNNNNNNNNNNNNNNNNNN\n",
      "NNNNNNNNNNNNNNNNNNNNNNNNNNNNNNNNNNNNNNNNNNNNNNNNNNNNNNNNNNNN\n"
     ]
    }
   ],
   "source": [
    "# Now that we've successfully unzipped our file, let's take a look at it\n",
    "head -n 5 Mus_musculus.GRCm38.75.dna.chromosome.8.fa"
   ]
  },
  {
   "cell_type": "markdown",
   "metadata": {},
   "source": [
    "# Data compression flavors\n",
    "\n",
    "There are different flavors of data compression and each flavor uses different commands to decompress/compress the files.\n",
    "\n",
    "Tools behave similarly.\n",
    "\n",
    "Some of the most common ones you'll encounter are:\n",
    "\n",
    "| gzip      | zip      | bzip      |\n",
    "| --------  | -------- | --------  |\n",
    "| .gz       | .zip     | .bz2      |\n",
    "| .tgz      | .tar.zip | .tar.bz2  |\n",
    "| .tar.gz   |          | .tbz      |\n",
    "|           |          | .tbz2     |"
   ]
  },
  {
   "cell_type": "markdown",
   "metadata": {},
   "source": [
    "# Example 6: tar and gzipped files\n",
    "\n",
    "If you work in a Linux environment, chances are you'll be downloading and using tools developed by other researchers/labs, institutes, etc.\n",
    "\n",
    "Often, these tools are tarred and gzipped and have a `.tgz` or `.tar.gz` extension on it. In these cases, you can use the following command to unpack it\n",
    "\n",
    "```bash\n",
    "# -x extracts the contents\n",
    "# -z filters archive through gzip\n",
    "# -v verbosely lists files\n",
    "# -f use archive file\n",
    "tar -xzvf file.tar.gz\n",
    "```\n",
    "\n",
    "Let's take a look at some examples below."
   ]
  },
  {
   "cell_type": "markdown",
   "metadata": {},
   "source": [
    "#### First, we'll create a tar archive:\n",
    "\n",
    "tar -czvf name-of-archive.tgz /path/to/directory-or-file\n",
    "\n",
    "`-c` creates archive\n",
    "\n",
    "`-z` compresses archive with gzip\n",
    "\n",
    "`-v` displays progress in terminal while creating archive\n",
    "\n",
    "`-f` allows you to specify filename of archive"
   ]
  },
  {
   "cell_type": "code",
   "execution_count": 71,
   "metadata": {},
   "outputs": [
    {
     "name": "stdout",
     "output_type": "stream",
     "text": [
      "tar: Removing leading '/' from member names\n",
      "a Users/chaochih/GitHub/Bash_Demo/toy_data/Mus_musculus.GRCm38.75_chr1.bed\n",
      "a Users/chaochih/GitHub/Bash_Demo/toy_data/example.bed\n",
      "a Users/chaochih/GitHub/Bash_Demo/toy_data/example2.bed\n",
      "a Users/chaochih/GitHub/Bash_Demo/toy_data/gene-1.bed\n",
      "a Users/chaochih/GitHub/Bash_Demo/toy_data/gene-2.bed\n",
      "a Users/chaochih/GitHub/Bash_Demo/toy_data/test.bed\n",
      "a Users/chaochih/GitHub/Bash_Demo/toy_data/test_chr1_only.bed\n"
     ]
    }
   ],
   "source": [
    "# Note: you may have to change the path here\n",
    "tar -czvf my_bed_files.tgz /Users/chaochih/GitHub/Bash_Demo/toy_data/*.bed"
   ]
  },
  {
   "cell_type": "code",
   "execution_count": 73,
   "metadata": {},
   "outputs": [
    {
     "name": "stdout",
     "output_type": "stream",
     "text": [
      "my_bed_files.tgz\n"
     ]
    }
   ],
   "source": [
    "# Now let's see if the archive was created\n",
    "ls *.tgz"
   ]
  },
  {
   "cell_type": "markdown",
   "metadata": {},
   "source": [
    "#### To view all files in an archive.tar, but don't unpack it use:"
   ]
  },
  {
   "cell_type": "code",
   "execution_count": 74,
   "metadata": {},
   "outputs": [
    {
     "name": "stdout",
     "output_type": "stream",
     "text": [
      "-rw-r--r--  0 chaochih staff     239 Jan  9 20:59 /Users/chaochih/GitHub/Bash_Demo/toy_data/._Mus_musculus.GRCm38.75_chr1.bed\n",
      "-rw-r--r--  0 chaochih staff 1698545 Jan  9 20:59 Users/chaochih/GitHub/Bash_Demo/toy_data/Mus_musculus.GRCm38.75_chr1.bed\n",
      "-rw-r--r--  0 chaochih staff     239 Jan  9 20:59 /Users/chaochih/GitHub/Bash_Demo/toy_data/._example.bed\n",
      "-rw-r--r--  0 chaochih staff      87 Jan  9 20:59 Users/chaochih/GitHub/Bash_Demo/toy_data/example.bed\n",
      "-rw-r--r--  0 chaochih staff     239 Jan  9 20:59 /Users/chaochih/GitHub/Bash_Demo/toy_data/._example2.bed\n",
      "-rw-r--r--  0 chaochih staff      91 Jan  9 20:59 Users/chaochih/GitHub/Bash_Demo/toy_data/example2.bed\n",
      "-rw-r--r--  0 chaochih staff     239 Jan  9 20:59 /Users/chaochih/GitHub/Bash_Demo/toy_data/._gene-1.bed\n",
      "-rw-r--r--  0 chaochih staff     748 Jan  9 20:59 Users/chaochih/GitHub/Bash_Demo/toy_data/gene-1.bed\n",
      "-rw-r--r--  0 chaochih staff     239 Jan  9 20:59 /Users/chaochih/GitHub/Bash_Demo/toy_data/._gene-2.bed\n",
      "-rw-r--r--  0 chaochih staff     646 Jan  9 20:59 Users/chaochih/GitHub/Bash_Demo/toy_data/gene-2.bed\n",
      "-rw-r--r--  0 chaochih staff     239 Jan  9 20:59 /Users/chaochih/GitHub/Bash_Demo/toy_data/._test.bed\n",
      "-rw-r--r--  0 chaochih staff     103 Jan  9 20:59 Users/chaochih/GitHub/Bash_Demo/toy_data/test.bed\n",
      "-rw-r--r--  0 chaochih staff     239 Jan 11 19:48 /Users/chaochih/GitHub/Bash_Demo/toy_data/._test_chr1_only.bed\n",
      "-rw-r--r--  0 chaochih staff      54 Jan 11 19:48 Users/chaochih/GitHub/Bash_Demo/toy_data/test_chr1_only.bed\n"
     ]
    }
   ],
   "source": [
    "tar -tvf my_bed_files.tgz"
   ]
  },
  {
   "cell_type": "markdown",
   "metadata": {},
   "source": [
    "# Exercise 1: Count the number of sequences in Morex, a six row malting barley\n",
    "\n",
    "To better explore .fa/.fasta (FASTA) files, let's count the number of sequences in the `temp_Morex_Reference.fasta`. To count the number of lines, use `wc -l`, but...\n",
    "\n",
    "### Remember:\n",
    "\n",
    "Each sequence in the `.fa`/`.fasta` file starts with a \">\" indicating a description of the sequences. This is followed by multiple lines of sequences.\n",
    "\n",
    "Example `.fa`/`.fasta` file:\n",
    "\n",
    "```bash\n",
    ">seq0\n",
    "FQTWEEFSRAAEKLYLADPMKVRVVLKYRHVDGNLCIKVTDDLVCLVYRTDQAQDVKKIEKF\n",
    ">seq1\n",
    "KYRTWEEFTRAAEKLYQADPMKVRVVLKYRHCDGNLCIKVTDDVVCLLYRTDQAQDVKKIEKFHSQLMRLME LKVTDNKECLKFKTDQAQEAKKMEKLNNIFFTLM\n",
    ">seq2\n",
    "EEYQTWEEFARAAEKLYLTDPMKVRVVLKYRHCDGNLCMKVTDDAVCLQYKTDQAQDVKKVEKLHGK\n",
    ">seq3\n",
    "MYQVWEEFSRAVEKLYLTDPMKVRVVLKYRHCDGNLCIKVTDNSVCLQYKTDQAQDVK\n",
    "```\n",
    "\n",
    "So, to extract the number of sequences **not** the number of lines, you will need to count the number of \">\" description lines."
   ]
  },
  {
   "cell_type": "code",
   "execution_count": null,
   "metadata": {},
   "outputs": [],
   "source": [
    "# First, use \"head\" and \"tail\" commands to see what the beginning and end\n",
    "# of the file looks like."
   ]
  },
  {
   "cell_type": "code",
   "execution_count": 69,
   "metadata": {},
   "outputs": [],
   "source": [
    "# Enter code for this exercise here\n",
    "# There are multiple ways to complete this exercise\n",
    "\n"
   ]
  }
 ],
 "metadata": {
  "kernelspec": {
   "display_name": "Bash",
   "language": "bash",
   "name": "bash"
  },
  "language_info": {
   "codemirror_mode": "shell",
   "file_extension": ".sh",
   "mimetype": "text/x-sh",
   "name": "bash"
  }
 },
 "nbformat": 4,
 "nbformat_minor": 2
}
